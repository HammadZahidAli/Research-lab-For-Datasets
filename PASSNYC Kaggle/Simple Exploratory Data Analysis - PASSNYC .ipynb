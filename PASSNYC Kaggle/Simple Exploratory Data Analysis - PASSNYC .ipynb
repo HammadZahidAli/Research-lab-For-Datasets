{
 "cells": [
  {
   "cell_type": "markdown",
   "metadata": {
    "_uuid": "a7bb3008b4680f8c7b971a5b8dbdec5d71a563b9",
    "collapsed": true
   },
   "source": [
    "#### This notebook is forked from Randy Lao a great guy in Data science Communities. I just tried review his work and add some more in it. "
   ]
  },
  {
   "cell_type": "markdown",
   "metadata": {
    "_uuid": "4d0aacc96fa1e216d92cc349c2593065c6f96f1d"
   },
   "source": [
    "1. ## Table of Contents\n",
    "### Geospatial Content:\n",
    "\n",
    "- [Geographical Student Race Distribution of New York](#map_of_newyork)\n",
    "\n",
    "- [Asian/White Student Geospatial Distribution](#asian_white_geomap)\n",
    "\n",
    "- [Black/Hispanic Student Geospatial Distribution](#black_hispanic_geomap)\n",
    "\n",
    "### Student Content:\n",
    "- [Correlation Matrix (Student Heatmap)](#correlation)\n",
    "\n",
    "- [Student Race & Economic Need Index](#race_economic)\n",
    "\n",
    "- [Low/High Student Attedance and It's Effect on Race](#school_attendance)\n",
    "\n",
    "- [Student Math & ELA Performance by Race](#student_performance)\n",
    "\n",
    "- [Math Test Performance By Race (Grade 3-8)](#math_test)\n",
    "\n",
    "- [ELA Test Performance By Race (Grade 3-8)](#ela_test)\n",
    "\n",
    "### Community and Non Community Schools Content:\n",
    "- [Community VS Non-Community Schools](#community_vs_noncommunity)\n",
    "\n",
    "- [Economic Need Index Comparison: Community VS Non-Community Schools](#economic_need)\n",
    "\n",
    "- [Average School Income Comparison: Community VS Non-Community Schools](#avg_school_income_comparison)\n",
    "\n",
    "- [School Per City Distribution: Which City Has the Most Schools?](#school_per_city)\n",
    "\n",
    "- [K-Means Clustering: What Group of Schools Need Help?](#clustering)\n",
    "\n",
    "### SHSAT Registration Content:\n",
    "\n",
    "- [SHSAT Registration Count Distribution Per School](#registration_count)\n",
    "\n",
    "- [SHSAT Registration Per Year (2014-2016)](#registration_per_year)\n",
    "\n",
    "### Additional Data:\n",
    "- [NYC SAT Results](#additional_sat)\n",
    "\n",
    "- [NYC Income Census](#additional_income)\n",
    "\n",
    "\n"
   ]
  },
  {
   "cell_type": "markdown",
   "metadata": {
    "_uuid": "4e52bad30b926c670bd5683ce1f4592bc56648de"
   },
   "source": [
    "# The Problem\n",
    "***\n",
    "\n",
    "**Source:** https://www.nytimes.com/2018/06/21/nyregion/what-is-the-shsat-exam-and-why-does-it-matter.html \n",
    "\n",
    "1. **Low Number of Black and Latino Students** in specialized High Schools.\n",
    "2. Only 10% of New York City's public school students are black/latino received offers, even though 67% of public students are black/latino\n",
    "3. Asians make up **62%** of students at specialized high schools, even though 16% of public students are asian\n",
    "4. Whites make up **24%** of students at specialized highs schools, even though 15% of public students are white\n",
    "\n",
    "**Hypothesis:**\n",
    "Before we begin doing any analysis, it's always best to have some ideas in mind to understand why underrepresented groups of students are not receiving the help they need. Here are a few ideas:\n",
    "- **Community VS Non-Community** schools should have an impact to the type of students \n",
    "- **Race** can be a proxy for a student's need of help, this is very debatable\n",
    "- A school's **location** can be a proxy for students in need of help\n",
    "- Student overall **performance** per school can be a proxy as well\n",
    "\n",
    "\n"
   ]
  },
  {
   "cell_type": "markdown",
   "metadata": {
    "_uuid": "54feb054b996a344a89191da259a8a5562ec3b26"
   },
   "source": [
    "# Exploratory Data Analysis of New York Schools\n",
    "***"
   ]
  },
  {
   "cell_type": "code",
   "execution_count": 1,
   "metadata": {
    "_uuid": "bfa81dee8240eded5c832123ae60313fe6467e38"
   },
   "outputs": [
    {
     "data": {
      "text/html": [
       "<script>requirejs.config({paths: { 'plotly': ['https://cdn.plot.ly/plotly-latest.min']},});if(!window.Plotly) {{require(['plotly'],function(plotly) {window.Plotly=plotly;});}}</script>"
      ],
      "text/vnd.plotly.v1+html": [
       "<script>requirejs.config({paths: { 'plotly': ['https://cdn.plot.ly/plotly-latest.min']},});if(!window.Plotly) {{require(['plotly'],function(plotly) {window.Plotly=plotly;});}}</script>"
      ]
     },
     "metadata": {},
     "output_type": "display_data"
    }
   ],
   "source": [
    "# Import the neccessary modules for data manipulation and visual representation\n",
    "import pandas as pd\n",
    "import numpy as np\n",
    "import matplotlib.pyplot as plt\n",
    "import matplotlib as matplot\n",
    "import seaborn as sns\n",
    "%matplotlib inline\n",
    "\n",
    "from plotly.offline import init_notebook_mode, iplot\n",
    "init_notebook_mode(connected=True)\n",
    "import plotly.graph_objs as go\n",
    "import plotly.figure_factory as ff\n",
    "from plotly import tools\n",
    "import plotly.plotly as py"
   ]
  },
  {
   "cell_type": "code",
   "execution_count": 5,
   "metadata": {
    "_uuid": "b5024567ac4ccad11a08ad349d4202896da6fd11"
   },
   "outputs": [],
   "source": [
    "pd.set_option('display.max_columns', None)  \n",
    "df = pd.read_csv('2016 School Explorer.csv')\n",
    "shsat = pd.read_csv('D5 SHSAT Registrations and Testers.csv')\n",
    "safety = pd.read_csv('2010-2016-school-safety-report.csv')"
   ]
  },
  {
   "cell_type": "code",
   "execution_count": 6,
   "metadata": {
    "_uuid": "6a8c5d098647004eb9db3e2e0d08d38de20e9736"
   },
   "outputs": [
    {
     "data": {
      "text/html": [
       "<div>\n",
       "<style scoped>\n",
       "    .dataframe tbody tr th:only-of-type {\n",
       "        vertical-align: middle;\n",
       "    }\n",
       "\n",
       "    .dataframe tbody tr th {\n",
       "        vertical-align: top;\n",
       "    }\n",
       "\n",
       "    .dataframe thead th {\n",
       "        text-align: right;\n",
       "    }\n",
       "</style>\n",
       "<table border=\"1\" class=\"dataframe\">\n",
       "  <thead>\n",
       "    <tr style=\"text-align: right;\">\n",
       "      <th></th>\n",
       "      <th>Adjusted Grade</th>\n",
       "      <th>New?</th>\n",
       "      <th>Other Location Code in LCGMS</th>\n",
       "      <th>School Name</th>\n",
       "      <th>SED Code</th>\n",
       "      <th>Location Code</th>\n",
       "      <th>District</th>\n",
       "      <th>Latitude</th>\n",
       "      <th>Longitude</th>\n",
       "      <th>Address (Full)</th>\n",
       "      <th>City</th>\n",
       "      <th>Zip</th>\n",
       "      <th>Grades</th>\n",
       "      <th>Grade Low</th>\n",
       "      <th>Grade High</th>\n",
       "      <th>Community School?</th>\n",
       "      <th>Economic Need Index</th>\n",
       "      <th>School Income Estimate</th>\n",
       "      <th>Percent ELL</th>\n",
       "      <th>Percent Asian</th>\n",
       "      <th>Percent Black</th>\n",
       "      <th>Percent Hispanic</th>\n",
       "      <th>Percent Black / Hispanic</th>\n",
       "      <th>Percent White</th>\n",
       "      <th>Student Attendance Rate</th>\n",
       "      <th>Percent of Students Chronically Absent</th>\n",
       "      <th>Rigorous Instruction %</th>\n",
       "      <th>Rigorous Instruction Rating</th>\n",
       "      <th>Collaborative Teachers %</th>\n",
       "      <th>Collaborative Teachers Rating</th>\n",
       "      <th>Supportive Environment %</th>\n",
       "      <th>Supportive Environment Rating</th>\n",
       "      <th>Effective School Leadership %</th>\n",
       "      <th>Effective School Leadership Rating</th>\n",
       "      <th>Strong Family-Community Ties %</th>\n",
       "      <th>Strong Family-Community Ties Rating</th>\n",
       "      <th>Trust %</th>\n",
       "      <th>Trust Rating</th>\n",
       "      <th>Student Achievement Rating</th>\n",
       "      <th>Average ELA Proficiency</th>\n",
       "      <th>Average Math Proficiency</th>\n",
       "      <th>Grade 3 ELA - All Students Tested</th>\n",
       "      <th>Grade 3 ELA 4s - All Students</th>\n",
       "      <th>Grade 3 ELA 4s - American Indian or Alaska Native</th>\n",
       "      <th>Grade 3 ELA 4s - Black or African American</th>\n",
       "      <th>Grade 3 ELA 4s - Hispanic or Latino</th>\n",
       "      <th>Grade 3 ELA 4s - Asian or Pacific Islander</th>\n",
       "      <th>Grade 3 ELA 4s - White</th>\n",
       "      <th>Grade 3 ELA 4s - Multiracial</th>\n",
       "      <th>Grade 3 ELA 4s - Limited English Proficient</th>\n",
       "      <th>Grade 3 ELA 4s - Economically Disadvantaged</th>\n",
       "      <th>Grade 3 Math - All Students tested</th>\n",
       "      <th>Grade 3 Math 4s - All Students</th>\n",
       "      <th>Grade 3 Math 4s - American Indian or Alaska Native</th>\n",
       "      <th>Grade 3 Math 4s - Black or African American</th>\n",
       "      <th>Grade 3 Math 4s - Hispanic or Latino</th>\n",
       "      <th>Grade 3 Math 4s - Asian or Pacific Islander</th>\n",
       "      <th>Grade 3 Math 4s - White</th>\n",
       "      <th>Grade 3 Math 4s - Multiracial</th>\n",
       "      <th>Grade 3 Math 4s - Limited English Proficient</th>\n",
       "      <th>Grade 3 Math 4s - Economically Disadvantaged</th>\n",
       "      <th>Grade 4 ELA - All Students Tested</th>\n",
       "      <th>Grade 4 ELA 4s - All Students</th>\n",
       "      <th>Grade 4 ELA 4s - American Indian or Alaska Native</th>\n",
       "      <th>Grade 4 ELA 4s - Black or African American</th>\n",
       "      <th>Grade 4 ELA 4s - Hispanic or Latino</th>\n",
       "      <th>Grade 4 ELA 4s - Asian or Pacific Islander</th>\n",
       "      <th>Grade 4 ELA 4s - White</th>\n",
       "      <th>Grade 4 ELA 4s - Multiracial</th>\n",
       "      <th>Grade 4 ELA 4s - Limited English Proficient</th>\n",
       "      <th>Grade 4 ELA 4s - Economically Disadvantaged</th>\n",
       "      <th>Grade 4 Math - All Students Tested</th>\n",
       "      <th>Grade 4 Math 4s - All Students</th>\n",
       "      <th>Grade 4 Math 4s - American Indian or Alaska Native</th>\n",
       "      <th>Grade 4 Math 4s - Black or African American</th>\n",
       "      <th>Grade 4 Math 4s - Hispanic or Latino</th>\n",
       "      <th>Grade 4 Math 4s - Asian or Pacific Islander</th>\n",
       "      <th>Grade 4 Math 4s - White</th>\n",
       "      <th>Grade 4 Math 4s - Multiracial</th>\n",
       "      <th>Grade 4 Math 4s - Limited English Proficient</th>\n",
       "      <th>Grade 4 Math 4s - Economically Disadvantaged</th>\n",
       "      <th>Grade 5 ELA - All Students Tested</th>\n",
       "      <th>Grade 5 ELA 4s - All Students</th>\n",
       "      <th>Grade 5 ELA 4s - American Indian or Alaska Native</th>\n",
       "      <th>Grade 5 ELA 4s - Black or African American</th>\n",
       "      <th>Grade 5 ELA 4s - Hispanic or Latino</th>\n",
       "      <th>Grade 5 ELA 4s - Asian or Pacific Islander</th>\n",
       "      <th>Grade 5 ELA 4s - White</th>\n",
       "      <th>Grade 5 ELA 4s - Multiracial</th>\n",
       "      <th>Grade 5 ELA 4s - Limited English Proficient</th>\n",
       "      <th>Grade 5 ELA 4s - Economically Disadvantaged</th>\n",
       "      <th>Grade 5 Math - All Students Tested</th>\n",
       "      <th>Grade 5 Math 4s - All Students</th>\n",
       "      <th>Grade 5 Math 4s - American Indian or Alaska Native</th>\n",
       "      <th>Grade 5 Math 4s - Black or African American</th>\n",
       "      <th>Grade 5 Math 4s - Hispanic or Latino</th>\n",
       "      <th>Grade 5 Math 4s - Asian or Pacific Islander</th>\n",
       "      <th>Grade 5 Math 4s - White</th>\n",
       "      <th>Grade 5 Math 4s - Multiracial</th>\n",
       "      <th>Grade 5 Math 4s - Limited English Proficient</th>\n",
       "      <th>Grade 5 Math 4s - Economically Disadvantaged</th>\n",
       "      <th>Grade 6 ELA - All Students Tested</th>\n",
       "      <th>Grade 6 ELA 4s - All Students</th>\n",
       "      <th>Grade 6 ELA 4s - American Indian or Alaska Native</th>\n",
       "      <th>Grade 6 ELA 4s - Black or African American</th>\n",
       "      <th>Grade 6 ELA 4s - Hispanic or Latino</th>\n",
       "      <th>Grade 6 ELA 4s - Asian or Pacific Islander</th>\n",
       "      <th>Grade 6 ELA 4s - White</th>\n",
       "      <th>Grade 6 ELA 4s - Multiracial</th>\n",
       "      <th>Grade 6 ELA 4s - Limited English Proficient</th>\n",
       "      <th>Grade 6 ELA 4s - Economically Disadvantaged</th>\n",
       "      <th>Grade 6 Math - All Students Tested</th>\n",
       "      <th>Grade 6 Math 4s - All Students</th>\n",
       "      <th>Grade 6 Math 4s - American Indian or Alaska Native</th>\n",
       "      <th>Grade 6 Math 4s - Black or African American</th>\n",
       "      <th>Grade 6 Math 4s - Hispanic or Latino</th>\n",
       "      <th>Grade 6 Math 4s - Asian or Pacific Islander</th>\n",
       "      <th>Grade 6 Math 4s - White</th>\n",
       "      <th>Grade 6 Math 4s - Multiracial</th>\n",
       "      <th>Grade 6 Math 4s - Limited English Proficient</th>\n",
       "      <th>Grade 6 Math 4s - Economically Disadvantaged</th>\n",
       "      <th>Grade 7 ELA - All Students Tested</th>\n",
       "      <th>Grade 7 ELA 4s - All Students</th>\n",
       "      <th>Grade 7 ELA 4s - American Indian or Alaska Native</th>\n",
       "      <th>Grade 7 ELA 4s - Black or African American</th>\n",
       "      <th>Grade 7 ELA 4s - Hispanic or Latino</th>\n",
       "      <th>Grade 7 ELA 4s - Asian or Pacific Islander</th>\n",
       "      <th>Grade 7 ELA 4s - White</th>\n",
       "      <th>Grade 7 ELA 4s - Multiracial</th>\n",
       "      <th>Grade 7 ELA 4s - Limited English Proficient</th>\n",
       "      <th>Grade 7 ELA 4s - Economically Disadvantaged</th>\n",
       "      <th>Grade 7 Math - All Students Tested</th>\n",
       "      <th>Grade 7 Math 4s - All Students</th>\n",
       "      <th>Grade 7 Math 4s - American Indian or Alaska Native</th>\n",
       "      <th>Grade 7 Math 4s - Black or African American</th>\n",
       "      <th>Grade 7 Math 4s - Hispanic or Latino</th>\n",
       "      <th>Grade 7 Math 4s - Asian or Pacific Islander</th>\n",
       "      <th>Grade 7 Math 4s - White</th>\n",
       "      <th>Grade 7 Math 4s - Multiracial</th>\n",
       "      <th>Grade 7 Math 4s - Limited English Proficient</th>\n",
       "      <th>Grade 7 Math 4s - Economically Disadvantaged</th>\n",
       "      <th>Grade 8 ELA - All Students Tested</th>\n",
       "      <th>Grade 8 ELA 4s - All Students</th>\n",
       "      <th>Grade 8 ELA 4s - American Indian or Alaska Native</th>\n",
       "      <th>Grade 8 ELA 4s - Black or African American</th>\n",
       "      <th>Grade 8 ELA 4s - Hispanic or Latino</th>\n",
       "      <th>Grade 8 ELA 4s - Asian or Pacific Islander</th>\n",
       "      <th>Grade 8 ELA 4s - White</th>\n",
       "      <th>Grade 8 ELA 4s - Multiracial</th>\n",
       "      <th>Grade 8 ELA 4s - Limited English Proficient</th>\n",
       "      <th>Grade 8 ELA 4s - Economically Disadvantaged</th>\n",
       "      <th>Grade 8 Math - All Students Tested</th>\n",
       "      <th>Grade 8 Math 4s - All Students</th>\n",
       "      <th>Grade 8 Math 4s - American Indian or Alaska Native</th>\n",
       "      <th>Grade 8 Math 4s - Black or African American</th>\n",
       "      <th>Grade 8 Math 4s - Hispanic or Latino</th>\n",
       "      <th>Grade 8 Math 4s - Asian or Pacific Islander</th>\n",
       "      <th>Grade 8 Math 4s - White</th>\n",
       "      <th>Grade 8 Math 4s - Multiracial</th>\n",
       "      <th>Grade 8 Math 4s - Limited English Proficient</th>\n",
       "      <th>Grade 8 Math 4s - Economically Disadvantaged</th>\n",
       "    </tr>\n",
       "  </thead>\n",
       "  <tbody>\n",
       "    <tr>\n",
       "      <th>0</th>\n",
       "      <td>NaN</td>\n",
       "      <td>NaN</td>\n",
       "      <td>NaN</td>\n",
       "      <td>P.S. 015 ROBERTO CLEMENTE</td>\n",
       "      <td>310100010015</td>\n",
       "      <td>01M015</td>\n",
       "      <td>1</td>\n",
       "      <td>40.721834</td>\n",
       "      <td>-73.978766</td>\n",
       "      <td>333 E 4TH ST NEW YORK, NY 10009</td>\n",
       "      <td>NEW YORK</td>\n",
       "      <td>10009</td>\n",
       "      <td>PK,0K,01,02,03,04,05</td>\n",
       "      <td>PK</td>\n",
       "      <td>05</td>\n",
       "      <td>Yes</td>\n",
       "      <td>0.919</td>\n",
       "      <td>$31,141.72</td>\n",
       "      <td>9%</td>\n",
       "      <td>5%</td>\n",
       "      <td>32%</td>\n",
       "      <td>60%</td>\n",
       "      <td>92%</td>\n",
       "      <td>1%</td>\n",
       "      <td>94%</td>\n",
       "      <td>18%</td>\n",
       "      <td>89%</td>\n",
       "      <td>Meeting Target</td>\n",
       "      <td>94%</td>\n",
       "      <td>Meeting Target</td>\n",
       "      <td>86%</td>\n",
       "      <td>Exceeding Target</td>\n",
       "      <td>91%</td>\n",
       "      <td>Exceeding Target</td>\n",
       "      <td>85%</td>\n",
       "      <td>Meeting Target</td>\n",
       "      <td>94%</td>\n",
       "      <td>Exceeding Target</td>\n",
       "      <td>Approaching Target</td>\n",
       "      <td>2.14</td>\n",
       "      <td>2.17</td>\n",
       "      <td>20</td>\n",
       "      <td>0</td>\n",
       "      <td>0</td>\n",
       "      <td>0</td>\n",
       "      <td>0</td>\n",
       "      <td>0</td>\n",
       "      <td>0</td>\n",
       "      <td>0</td>\n",
       "      <td>0</td>\n",
       "      <td>0</td>\n",
       "      <td>21</td>\n",
       "      <td>0</td>\n",
       "      <td>0</td>\n",
       "      <td>0</td>\n",
       "      <td>0</td>\n",
       "      <td>0</td>\n",
       "      <td>0</td>\n",
       "      <td>0</td>\n",
       "      <td>0</td>\n",
       "      <td>0</td>\n",
       "      <td>15</td>\n",
       "      <td>0</td>\n",
       "      <td>0</td>\n",
       "      <td>0</td>\n",
       "      <td>0</td>\n",
       "      <td>0</td>\n",
       "      <td>0</td>\n",
       "      <td>0</td>\n",
       "      <td>0</td>\n",
       "      <td>0</td>\n",
       "      <td>15</td>\n",
       "      <td>2</td>\n",
       "      <td>0</td>\n",
       "      <td>0</td>\n",
       "      <td>0</td>\n",
       "      <td>0</td>\n",
       "      <td>0</td>\n",
       "      <td>0</td>\n",
       "      <td>0</td>\n",
       "      <td>0</td>\n",
       "      <td>16</td>\n",
       "      <td>0</td>\n",
       "      <td>0</td>\n",
       "      <td>0</td>\n",
       "      <td>0</td>\n",
       "      <td>0</td>\n",
       "      <td>0</td>\n",
       "      <td>0</td>\n",
       "      <td>0</td>\n",
       "      <td>0</td>\n",
       "      <td>16</td>\n",
       "      <td>0</td>\n",
       "      <td>0</td>\n",
       "      <td>0</td>\n",
       "      <td>0</td>\n",
       "      <td>0</td>\n",
       "      <td>0</td>\n",
       "      <td>0</td>\n",
       "      <td>0</td>\n",
       "      <td>0</td>\n",
       "      <td>0</td>\n",
       "      <td>0</td>\n",
       "      <td>0</td>\n",
       "      <td>0</td>\n",
       "      <td>0</td>\n",
       "      <td>0</td>\n",
       "      <td>0</td>\n",
       "      <td>0</td>\n",
       "      <td>0</td>\n",
       "      <td>0</td>\n",
       "      <td>0</td>\n",
       "      <td>0</td>\n",
       "      <td>0</td>\n",
       "      <td>0</td>\n",
       "      <td>0</td>\n",
       "      <td>0</td>\n",
       "      <td>0</td>\n",
       "      <td>0</td>\n",
       "      <td>0</td>\n",
       "      <td>0</td>\n",
       "      <td>0</td>\n",
       "      <td>0</td>\n",
       "      <td>0</td>\n",
       "      <td>0</td>\n",
       "      <td>0</td>\n",
       "      <td>0</td>\n",
       "      <td>0</td>\n",
       "      <td>0</td>\n",
       "      <td>0</td>\n",
       "      <td>0</td>\n",
       "      <td>0</td>\n",
       "      <td>0</td>\n",
       "      <td>0</td>\n",
       "      <td>0</td>\n",
       "      <td>0</td>\n",
       "      <td>0</td>\n",
       "      <td>0</td>\n",
       "      <td>0</td>\n",
       "      <td>0</td>\n",
       "      <td>0</td>\n",
       "      <td>0</td>\n",
       "      <td>0</td>\n",
       "      <td>0</td>\n",
       "      <td>0</td>\n",
       "      <td>0</td>\n",
       "      <td>0</td>\n",
       "      <td>0</td>\n",
       "      <td>0</td>\n",
       "      <td>0</td>\n",
       "      <td>0</td>\n",
       "      <td>0</td>\n",
       "      <td>0</td>\n",
       "      <td>0</td>\n",
       "      <td>0</td>\n",
       "      <td>0</td>\n",
       "      <td>0</td>\n",
       "      <td>0</td>\n",
       "      <td>0</td>\n",
       "      <td>0</td>\n",
       "      <td>0</td>\n",
       "    </tr>\n",
       "    <tr>\n",
       "      <th>1</th>\n",
       "      <td>NaN</td>\n",
       "      <td>NaN</td>\n",
       "      <td>NaN</td>\n",
       "      <td>P.S. 019 ASHER LEVY</td>\n",
       "      <td>310100010019</td>\n",
       "      <td>01M019</td>\n",
       "      <td>1</td>\n",
       "      <td>40.729892</td>\n",
       "      <td>-73.984231</td>\n",
       "      <td>185 1ST AVE NEW YORK, NY 10003</td>\n",
       "      <td>NEW YORK</td>\n",
       "      <td>10003</td>\n",
       "      <td>PK,0K,01,02,03,04,05</td>\n",
       "      <td>PK</td>\n",
       "      <td>05</td>\n",
       "      <td>No</td>\n",
       "      <td>0.641</td>\n",
       "      <td>$56,462.88</td>\n",
       "      <td>5%</td>\n",
       "      <td>10%</td>\n",
       "      <td>20%</td>\n",
       "      <td>63%</td>\n",
       "      <td>83%</td>\n",
       "      <td>6%</td>\n",
       "      <td>92%</td>\n",
       "      <td>30%</td>\n",
       "      <td>96%</td>\n",
       "      <td>NaN</td>\n",
       "      <td>96%</td>\n",
       "      <td>NaN</td>\n",
       "      <td>97%</td>\n",
       "      <td>NaN</td>\n",
       "      <td>90%</td>\n",
       "      <td>Exceeding Target</td>\n",
       "      <td>86%</td>\n",
       "      <td>Meeting Target</td>\n",
       "      <td>94%</td>\n",
       "      <td>Meeting Target</td>\n",
       "      <td>Exceeding Target</td>\n",
       "      <td>2.63</td>\n",
       "      <td>2.98</td>\n",
       "      <td>33</td>\n",
       "      <td>2</td>\n",
       "      <td>0</td>\n",
       "      <td>1</td>\n",
       "      <td>1</td>\n",
       "      <td>0</td>\n",
       "      <td>0</td>\n",
       "      <td>0</td>\n",
       "      <td>0</td>\n",
       "      <td>0</td>\n",
       "      <td>33</td>\n",
       "      <td>6</td>\n",
       "      <td>0</td>\n",
       "      <td>2</td>\n",
       "      <td>1</td>\n",
       "      <td>0</td>\n",
       "      <td>0</td>\n",
       "      <td>0</td>\n",
       "      <td>0</td>\n",
       "      <td>4</td>\n",
       "      <td>29</td>\n",
       "      <td>5</td>\n",
       "      <td>0</td>\n",
       "      <td>0</td>\n",
       "      <td>3</td>\n",
       "      <td>0</td>\n",
       "      <td>0</td>\n",
       "      <td>0</td>\n",
       "      <td>0</td>\n",
       "      <td>3</td>\n",
       "      <td>28</td>\n",
       "      <td>10</td>\n",
       "      <td>0</td>\n",
       "      <td>0</td>\n",
       "      <td>6</td>\n",
       "      <td>0</td>\n",
       "      <td>0</td>\n",
       "      <td>0</td>\n",
       "      <td>0</td>\n",
       "      <td>8</td>\n",
       "      <td>32</td>\n",
       "      <td>7</td>\n",
       "      <td>0</td>\n",
       "      <td>3</td>\n",
       "      <td>1</td>\n",
       "      <td>2</td>\n",
       "      <td>0</td>\n",
       "      <td>0</td>\n",
       "      <td>0</td>\n",
       "      <td>6</td>\n",
       "      <td>32</td>\n",
       "      <td>4</td>\n",
       "      <td>0</td>\n",
       "      <td>0</td>\n",
       "      <td>1</td>\n",
       "      <td>2</td>\n",
       "      <td>0</td>\n",
       "      <td>0</td>\n",
       "      <td>0</td>\n",
       "      <td>3</td>\n",
       "      <td>0</td>\n",
       "      <td>0</td>\n",
       "      <td>0</td>\n",
       "      <td>0</td>\n",
       "      <td>0</td>\n",
       "      <td>0</td>\n",
       "      <td>0</td>\n",
       "      <td>0</td>\n",
       "      <td>0</td>\n",
       "      <td>0</td>\n",
       "      <td>0</td>\n",
       "      <td>0</td>\n",
       "      <td>0</td>\n",
       "      <td>0</td>\n",
       "      <td>0</td>\n",
       "      <td>0</td>\n",
       "      <td>0</td>\n",
       "      <td>0</td>\n",
       "      <td>0</td>\n",
       "      <td>0</td>\n",
       "      <td>0</td>\n",
       "      <td>0</td>\n",
       "      <td>0</td>\n",
       "      <td>0</td>\n",
       "      <td>0</td>\n",
       "      <td>0</td>\n",
       "      <td>0</td>\n",
       "      <td>0</td>\n",
       "      <td>0</td>\n",
       "      <td>0</td>\n",
       "      <td>0</td>\n",
       "      <td>0</td>\n",
       "      <td>0</td>\n",
       "      <td>0</td>\n",
       "      <td>0</td>\n",
       "      <td>0</td>\n",
       "      <td>0</td>\n",
       "      <td>0</td>\n",
       "      <td>0</td>\n",
       "      <td>0</td>\n",
       "      <td>0</td>\n",
       "      <td>0</td>\n",
       "      <td>0</td>\n",
       "      <td>0</td>\n",
       "      <td>0</td>\n",
       "      <td>0</td>\n",
       "      <td>0</td>\n",
       "      <td>0</td>\n",
       "      <td>0</td>\n",
       "      <td>0</td>\n",
       "      <td>0</td>\n",
       "      <td>0</td>\n",
       "      <td>0</td>\n",
       "      <td>0</td>\n",
       "      <td>0</td>\n",
       "      <td>0</td>\n",
       "      <td>0</td>\n",
       "      <td>0</td>\n",
       "      <td>0</td>\n",
       "      <td>0</td>\n",
       "    </tr>\n",
       "    <tr>\n",
       "      <th>2</th>\n",
       "      <td>NaN</td>\n",
       "      <td>NaN</td>\n",
       "      <td>NaN</td>\n",
       "      <td>P.S. 020 ANNA SILVER</td>\n",
       "      <td>310100010020</td>\n",
       "      <td>01M020</td>\n",
       "      <td>1</td>\n",
       "      <td>40.721274</td>\n",
       "      <td>-73.986315</td>\n",
       "      <td>166 ESSEX ST NEW YORK, NY 10002</td>\n",
       "      <td>NEW YORK</td>\n",
       "      <td>10002</td>\n",
       "      <td>PK,0K,01,02,03,04,05</td>\n",
       "      <td>PK</td>\n",
       "      <td>05</td>\n",
       "      <td>No</td>\n",
       "      <td>0.744</td>\n",
       "      <td>$44,342.61</td>\n",
       "      <td>15%</td>\n",
       "      <td>35%</td>\n",
       "      <td>8%</td>\n",
       "      <td>49%</td>\n",
       "      <td>57%</td>\n",
       "      <td>4%</td>\n",
       "      <td>94%</td>\n",
       "      <td>20%</td>\n",
       "      <td>87%</td>\n",
       "      <td>Meeting Target</td>\n",
       "      <td>77%</td>\n",
       "      <td>Meeting Target</td>\n",
       "      <td>82%</td>\n",
       "      <td>Approaching Target</td>\n",
       "      <td>61%</td>\n",
       "      <td>Not Meeting Target</td>\n",
       "      <td>80%</td>\n",
       "      <td>Approaching Target</td>\n",
       "      <td>79%</td>\n",
       "      <td>Not Meeting Target</td>\n",
       "      <td>Approaching Target</td>\n",
       "      <td>2.39</td>\n",
       "      <td>2.54</td>\n",
       "      <td>76</td>\n",
       "      <td>6</td>\n",
       "      <td>0</td>\n",
       "      <td>0</td>\n",
       "      <td>0</td>\n",
       "      <td>4</td>\n",
       "      <td>0</td>\n",
       "      <td>0</td>\n",
       "      <td>0</td>\n",
       "      <td>2</td>\n",
       "      <td>76</td>\n",
       "      <td>11</td>\n",
       "      <td>0</td>\n",
       "      <td>0</td>\n",
       "      <td>3</td>\n",
       "      <td>7</td>\n",
       "      <td>0</td>\n",
       "      <td>0</td>\n",
       "      <td>0</td>\n",
       "      <td>6</td>\n",
       "      <td>70</td>\n",
       "      <td>9</td>\n",
       "      <td>0</td>\n",
       "      <td>0</td>\n",
       "      <td>1</td>\n",
       "      <td>6</td>\n",
       "      <td>2</td>\n",
       "      <td>0</td>\n",
       "      <td>0</td>\n",
       "      <td>1</td>\n",
       "      <td>71</td>\n",
       "      <td>13</td>\n",
       "      <td>0</td>\n",
       "      <td>0</td>\n",
       "      <td>0</td>\n",
       "      <td>11</td>\n",
       "      <td>2</td>\n",
       "      <td>0</td>\n",
       "      <td>0</td>\n",
       "      <td>4</td>\n",
       "      <td>73</td>\n",
       "      <td>2</td>\n",
       "      <td>0</td>\n",
       "      <td>0</td>\n",
       "      <td>1</td>\n",
       "      <td>1</td>\n",
       "      <td>0</td>\n",
       "      <td>0</td>\n",
       "      <td>0</td>\n",
       "      <td>0</td>\n",
       "      <td>73</td>\n",
       "      <td>10</td>\n",
       "      <td>0</td>\n",
       "      <td>0</td>\n",
       "      <td>1</td>\n",
       "      <td>9</td>\n",
       "      <td>0</td>\n",
       "      <td>0</td>\n",
       "      <td>1</td>\n",
       "      <td>6</td>\n",
       "      <td>0</td>\n",
       "      <td>0</td>\n",
       "      <td>0</td>\n",
       "      <td>0</td>\n",
       "      <td>0</td>\n",
       "      <td>0</td>\n",
       "      <td>0</td>\n",
       "      <td>0</td>\n",
       "      <td>0</td>\n",
       "      <td>0</td>\n",
       "      <td>0</td>\n",
       "      <td>0</td>\n",
       "      <td>0</td>\n",
       "      <td>0</td>\n",
       "      <td>0</td>\n",
       "      <td>0</td>\n",
       "      <td>0</td>\n",
       "      <td>0</td>\n",
       "      <td>0</td>\n",
       "      <td>0</td>\n",
       "      <td>0</td>\n",
       "      <td>0</td>\n",
       "      <td>0</td>\n",
       "      <td>0</td>\n",
       "      <td>0</td>\n",
       "      <td>0</td>\n",
       "      <td>0</td>\n",
       "      <td>0</td>\n",
       "      <td>0</td>\n",
       "      <td>0</td>\n",
       "      <td>0</td>\n",
       "      <td>0</td>\n",
       "      <td>0</td>\n",
       "      <td>0</td>\n",
       "      <td>0</td>\n",
       "      <td>0</td>\n",
       "      <td>0</td>\n",
       "      <td>0</td>\n",
       "      <td>0</td>\n",
       "      <td>0</td>\n",
       "      <td>0</td>\n",
       "      <td>0</td>\n",
       "      <td>0</td>\n",
       "      <td>0</td>\n",
       "      <td>0</td>\n",
       "      <td>0</td>\n",
       "      <td>0</td>\n",
       "      <td>0</td>\n",
       "      <td>0</td>\n",
       "      <td>0</td>\n",
       "      <td>0</td>\n",
       "      <td>0</td>\n",
       "      <td>0</td>\n",
       "      <td>0</td>\n",
       "      <td>0</td>\n",
       "      <td>0</td>\n",
       "      <td>0</td>\n",
       "      <td>0</td>\n",
       "      <td>0</td>\n",
       "      <td>0</td>\n",
       "    </tr>\n",
       "  </tbody>\n",
       "</table>\n",
       "</div>"
      ],
      "text/plain": [
       "  Adjusted Grade New? Other Location Code in LCGMS                School Name  \\\n",
       "0            NaN  NaN                          NaN  P.S. 015 ROBERTO CLEMENTE   \n",
       "1            NaN  NaN                          NaN        P.S. 019 ASHER LEVY   \n",
       "2            NaN  NaN                          NaN       P.S. 020 ANNA SILVER   \n",
       "\n",
       "       SED Code Location Code  District   Latitude  Longitude  \\\n",
       "0  310100010015        01M015         1  40.721834 -73.978766   \n",
       "1  310100010019        01M019         1  40.729892 -73.984231   \n",
       "2  310100010020        01M020         1  40.721274 -73.986315   \n",
       "\n",
       "                    Address (Full)      City    Zip                Grades  \\\n",
       "0  333 E 4TH ST NEW YORK, NY 10009  NEW YORK  10009  PK,0K,01,02,03,04,05   \n",
       "1   185 1ST AVE NEW YORK, NY 10003  NEW YORK  10003  PK,0K,01,02,03,04,05   \n",
       "2  166 ESSEX ST NEW YORK, NY 10002  NEW YORK  10002  PK,0K,01,02,03,04,05   \n",
       "\n",
       "  Grade Low Grade High Community School?  Economic Need Index  \\\n",
       "0        PK         05               Yes                0.919   \n",
       "1        PK         05                No                0.641   \n",
       "2        PK         05                No                0.744   \n",
       "\n",
       "  School Income Estimate Percent ELL Percent Asian Percent Black  \\\n",
       "0            $31,141.72           9%            5%           32%   \n",
       "1            $56,462.88           5%           10%           20%   \n",
       "2            $44,342.61          15%           35%            8%   \n",
       "\n",
       "  Percent Hispanic Percent Black / Hispanic Percent White  \\\n",
       "0              60%                      92%            1%   \n",
       "1              63%                      83%            6%   \n",
       "2              49%                      57%            4%   \n",
       "\n",
       "  Student Attendance Rate Percent of Students Chronically Absent  \\\n",
       "0                     94%                                    18%   \n",
       "1                     92%                                    30%   \n",
       "2                     94%                                    20%   \n",
       "\n",
       "  Rigorous Instruction % Rigorous Instruction Rating Collaborative Teachers %  \\\n",
       "0                    89%              Meeting Target                      94%   \n",
       "1                    96%                         NaN                      96%   \n",
       "2                    87%              Meeting Target                      77%   \n",
       "\n",
       "  Collaborative Teachers Rating Supportive Environment %  \\\n",
       "0                Meeting Target                      86%   \n",
       "1                           NaN                      97%   \n",
       "2                Meeting Target                      82%   \n",
       "\n",
       "  Supportive Environment Rating Effective School Leadership %  \\\n",
       "0              Exceeding Target                           91%   \n",
       "1                           NaN                           90%   \n",
       "2            Approaching Target                           61%   \n",
       "\n",
       "  Effective School Leadership Rating Strong Family-Community Ties %  \\\n",
       "0                   Exceeding Target                            85%   \n",
       "1                   Exceeding Target                            86%   \n",
       "2                 Not Meeting Target                            80%   \n",
       "\n",
       "  Strong Family-Community Ties Rating Trust %        Trust Rating  \\\n",
       "0                      Meeting Target     94%    Exceeding Target   \n",
       "1                      Meeting Target     94%      Meeting Target   \n",
       "2                  Approaching Target     79%  Not Meeting Target   \n",
       "\n",
       "  Student Achievement Rating  Average ELA Proficiency  \\\n",
       "0         Approaching Target                     2.14   \n",
       "1           Exceeding Target                     2.63   \n",
       "2         Approaching Target                     2.39   \n",
       "\n",
       "   Average Math Proficiency  Grade 3 ELA - All Students Tested  \\\n",
       "0                      2.17                                 20   \n",
       "1                      2.98                                 33   \n",
       "2                      2.54                                 76   \n",
       "\n",
       "   Grade 3 ELA 4s - All Students  \\\n",
       "0                              0   \n",
       "1                              2   \n",
       "2                              6   \n",
       "\n",
       "   Grade 3 ELA 4s - American Indian or Alaska Native  \\\n",
       "0                                                  0   \n",
       "1                                                  0   \n",
       "2                                                  0   \n",
       "\n",
       "   Grade 3 ELA 4s - Black or African American  \\\n",
       "0                                           0   \n",
       "1                                           1   \n",
       "2                                           0   \n",
       "\n",
       "   Grade 3 ELA 4s - Hispanic or Latino  \\\n",
       "0                                    0   \n",
       "1                                    1   \n",
       "2                                    0   \n",
       "\n",
       "   Grade 3 ELA 4s - Asian or Pacific Islander  Grade 3 ELA 4s - White  \\\n",
       "0                                           0                       0   \n",
       "1                                           0                       0   \n",
       "2                                           4                       0   \n",
       "\n",
       "   Grade 3 ELA 4s - Multiracial  Grade 3 ELA 4s - Limited English Proficient  \\\n",
       "0                             0                                            0   \n",
       "1                             0                                            0   \n",
       "2                             0                                            0   \n",
       "\n",
       "   Grade 3 ELA 4s - Economically Disadvantaged  \\\n",
       "0                                            0   \n",
       "1                                            0   \n",
       "2                                            2   \n",
       "\n",
       "   Grade 3 Math - All Students tested  Grade 3 Math 4s - All Students  \\\n",
       "0                                  21                               0   \n",
       "1                                  33                               6   \n",
       "2                                  76                              11   \n",
       "\n",
       "   Grade 3 Math 4s - American Indian or Alaska Native  \\\n",
       "0                                                  0    \n",
       "1                                                  0    \n",
       "2                                                  0    \n",
       "\n",
       "   Grade 3 Math 4s - Black or African American  \\\n",
       "0                                            0   \n",
       "1                                            2   \n",
       "2                                            0   \n",
       "\n",
       "   Grade 3 Math 4s - Hispanic or Latino  \\\n",
       "0                                     0   \n",
       "1                                     1   \n",
       "2                                     3   \n",
       "\n",
       "   Grade 3 Math 4s - Asian or Pacific Islander  Grade 3 Math 4s - White  \\\n",
       "0                                            0                        0   \n",
       "1                                            0                        0   \n",
       "2                                            7                        0   \n",
       "\n",
       "   Grade 3 Math 4s - Multiracial  \\\n",
       "0                              0   \n",
       "1                              0   \n",
       "2                              0   \n",
       "\n",
       "   Grade 3 Math 4s - Limited English Proficient  \\\n",
       "0                                             0   \n",
       "1                                             0   \n",
       "2                                             0   \n",
       "\n",
       "   Grade 3 Math 4s - Economically Disadvantaged  \\\n",
       "0                                             0   \n",
       "1                                             4   \n",
       "2                                             6   \n",
       "\n",
       "   Grade 4 ELA - All Students Tested  Grade 4 ELA 4s - All Students  \\\n",
       "0                                 15                              0   \n",
       "1                                 29                              5   \n",
       "2                                 70                              9   \n",
       "\n",
       "   Grade 4 ELA 4s - American Indian or Alaska Native  \\\n",
       "0                                                  0   \n",
       "1                                                  0   \n",
       "2                                                  0   \n",
       "\n",
       "   Grade 4 ELA 4s - Black or African American  \\\n",
       "0                                           0   \n",
       "1                                           0   \n",
       "2                                           0   \n",
       "\n",
       "   Grade 4 ELA 4s - Hispanic or Latino  \\\n",
       "0                                    0   \n",
       "1                                    3   \n",
       "2                                    1   \n",
       "\n",
       "   Grade 4 ELA 4s - Asian or Pacific Islander  Grade 4 ELA 4s - White  \\\n",
       "0                                           0                       0   \n",
       "1                                           0                       0   \n",
       "2                                           6                       2   \n",
       "\n",
       "   Grade 4 ELA 4s - Multiracial  Grade 4 ELA 4s - Limited English Proficient  \\\n",
       "0                             0                                            0   \n",
       "1                             0                                            0   \n",
       "2                             0                                            0   \n",
       "\n",
       "   Grade 4 ELA 4s - Economically Disadvantaged  \\\n",
       "0                                            0   \n",
       "1                                            3   \n",
       "2                                            1   \n",
       "\n",
       "   Grade 4 Math - All Students Tested  Grade 4 Math 4s - All Students  \\\n",
       "0                                  15                               2   \n",
       "1                                  28                              10   \n",
       "2                                  71                              13   \n",
       "\n",
       "   Grade 4 Math 4s - American Indian or Alaska Native  \\\n",
       "0                                                  0    \n",
       "1                                                  0    \n",
       "2                                                  0    \n",
       "\n",
       "   Grade 4 Math 4s - Black or African American  \\\n",
       "0                                            0   \n",
       "1                                            0   \n",
       "2                                            0   \n",
       "\n",
       "   Grade 4 Math 4s - Hispanic or Latino  \\\n",
       "0                                     0   \n",
       "1                                     6   \n",
       "2                                     0   \n",
       "\n",
       "   Grade 4 Math 4s - Asian or Pacific Islander  Grade 4 Math 4s - White  \\\n",
       "0                                            0                        0   \n",
       "1                                            0                        0   \n",
       "2                                           11                        2   \n",
       "\n",
       "   Grade 4 Math 4s - Multiracial  \\\n",
       "0                              0   \n",
       "1                              0   \n",
       "2                              0   \n",
       "\n",
       "   Grade 4 Math 4s - Limited English Proficient  \\\n",
       "0                                             0   \n",
       "1                                             0   \n",
       "2                                             0   \n",
       "\n",
       "   Grade 4 Math 4s - Economically Disadvantaged  \\\n",
       "0                                             0   \n",
       "1                                             8   \n",
       "2                                             4   \n",
       "\n",
       "   Grade 5 ELA - All Students Tested  Grade 5 ELA 4s - All Students  \\\n",
       "0                                 16                              0   \n",
       "1                                 32                              7   \n",
       "2                                 73                              2   \n",
       "\n",
       "   Grade 5 ELA 4s - American Indian or Alaska Native  \\\n",
       "0                                                  0   \n",
       "1                                                  0   \n",
       "2                                                  0   \n",
       "\n",
       "   Grade 5 ELA 4s - Black or African American  \\\n",
       "0                                           0   \n",
       "1                                           3   \n",
       "2                                           0   \n",
       "\n",
       "   Grade 5 ELA 4s - Hispanic or Latino  \\\n",
       "0                                    0   \n",
       "1                                    1   \n",
       "2                                    1   \n",
       "\n",
       "   Grade 5 ELA 4s - Asian or Pacific Islander  Grade 5 ELA 4s - White  \\\n",
       "0                                           0                       0   \n",
       "1                                           2                       0   \n",
       "2                                           1                       0   \n",
       "\n",
       "   Grade 5 ELA 4s - Multiracial  Grade 5 ELA 4s - Limited English Proficient  \\\n",
       "0                             0                                            0   \n",
       "1                             0                                            0   \n",
       "2                             0                                            0   \n",
       "\n",
       "   Grade 5 ELA 4s - Economically Disadvantaged  \\\n",
       "0                                            0   \n",
       "1                                            6   \n",
       "2                                            0   \n",
       "\n",
       "   Grade 5 Math - All Students Tested  Grade 5 Math 4s - All Students  \\\n",
       "0                                  16                               0   \n",
       "1                                  32                               4   \n",
       "2                                  73                              10   \n",
       "\n",
       "   Grade 5 Math 4s - American Indian or Alaska Native  \\\n",
       "0                                                  0    \n",
       "1                                                  0    \n",
       "2                                                  0    \n",
       "\n",
       "   Grade 5 Math 4s - Black or African American  \\\n",
       "0                                            0   \n",
       "1                                            0   \n",
       "2                                            0   \n",
       "\n",
       "   Grade 5 Math 4s - Hispanic or Latino  \\\n",
       "0                                     0   \n",
       "1                                     1   \n",
       "2                                     1   \n",
       "\n",
       "   Grade 5 Math 4s - Asian or Pacific Islander  Grade 5 Math 4s - White  \\\n",
       "0                                            0                        0   \n",
       "1                                            2                        0   \n",
       "2                                            9                        0   \n",
       "\n",
       "   Grade 5 Math 4s - Multiracial  \\\n",
       "0                              0   \n",
       "1                              0   \n",
       "2                              0   \n",
       "\n",
       "   Grade 5 Math 4s - Limited English Proficient  \\\n",
       "0                                             0   \n",
       "1                                             0   \n",
       "2                                             1   \n",
       "\n",
       "   Grade 5 Math 4s - Economically Disadvantaged  \\\n",
       "0                                             0   \n",
       "1                                             3   \n",
       "2                                             6   \n",
       "\n",
       "   Grade 6 ELA - All Students Tested  Grade 6 ELA 4s - All Students  \\\n",
       "0                                  0                              0   \n",
       "1                                  0                              0   \n",
       "2                                  0                              0   \n",
       "\n",
       "   Grade 6 ELA 4s - American Indian or Alaska Native  \\\n",
       "0                                                  0   \n",
       "1                                                  0   \n",
       "2                                                  0   \n",
       "\n",
       "   Grade 6 ELA 4s - Black or African American  \\\n",
       "0                                           0   \n",
       "1                                           0   \n",
       "2                                           0   \n",
       "\n",
       "   Grade 6 ELA 4s - Hispanic or Latino  \\\n",
       "0                                    0   \n",
       "1                                    0   \n",
       "2                                    0   \n",
       "\n",
       "   Grade 6 ELA 4s - Asian or Pacific Islander  Grade 6 ELA 4s - White  \\\n",
       "0                                           0                       0   \n",
       "1                                           0                       0   \n",
       "2                                           0                       0   \n",
       "\n",
       "   Grade 6 ELA 4s - Multiracial  Grade 6 ELA 4s - Limited English Proficient  \\\n",
       "0                             0                                            0   \n",
       "1                             0                                            0   \n",
       "2                             0                                            0   \n",
       "\n",
       "   Grade 6 ELA 4s - Economically Disadvantaged  \\\n",
       "0                                            0   \n",
       "1                                            0   \n",
       "2                                            0   \n",
       "\n",
       "   Grade 6 Math - All Students Tested  Grade 6 Math 4s - All Students  \\\n",
       "0                                   0                               0   \n",
       "1                                   0                               0   \n",
       "2                                   0                               0   \n",
       "\n",
       "   Grade 6 Math 4s - American Indian or Alaska Native  \\\n",
       "0                                                  0    \n",
       "1                                                  0    \n",
       "2                                                  0    \n",
       "\n",
       "   Grade 6 Math 4s - Black or African American  \\\n",
       "0                                            0   \n",
       "1                                            0   \n",
       "2                                            0   \n",
       "\n",
       "   Grade 6 Math 4s - Hispanic or Latino  \\\n",
       "0                                     0   \n",
       "1                                     0   \n",
       "2                                     0   \n",
       "\n",
       "   Grade 6 Math 4s - Asian or Pacific Islander  Grade 6 Math 4s - White  \\\n",
       "0                                            0                        0   \n",
       "1                                            0                        0   \n",
       "2                                            0                        0   \n",
       "\n",
       "   Grade 6 Math 4s - Multiracial  \\\n",
       "0                              0   \n",
       "1                              0   \n",
       "2                              0   \n",
       "\n",
       "   Grade 6 Math 4s - Limited English Proficient  \\\n",
       "0                                             0   \n",
       "1                                             0   \n",
       "2                                             0   \n",
       "\n",
       "   Grade 6 Math 4s - Economically Disadvantaged  \\\n",
       "0                                             0   \n",
       "1                                             0   \n",
       "2                                             0   \n",
       "\n",
       "   Grade 7 ELA - All Students Tested  Grade 7 ELA 4s - All Students  \\\n",
       "0                                  0                              0   \n",
       "1                                  0                              0   \n",
       "2                                  0                              0   \n",
       "\n",
       "   Grade 7 ELA 4s - American Indian or Alaska Native  \\\n",
       "0                                                  0   \n",
       "1                                                  0   \n",
       "2                                                  0   \n",
       "\n",
       "   Grade 7 ELA 4s - Black or African American  \\\n",
       "0                                           0   \n",
       "1                                           0   \n",
       "2                                           0   \n",
       "\n",
       "   Grade 7 ELA 4s - Hispanic or Latino  \\\n",
       "0                                    0   \n",
       "1                                    0   \n",
       "2                                    0   \n",
       "\n",
       "   Grade 7 ELA 4s - Asian or Pacific Islander  Grade 7 ELA 4s - White  \\\n",
       "0                                           0                       0   \n",
       "1                                           0                       0   \n",
       "2                                           0                       0   \n",
       "\n",
       "   Grade 7 ELA 4s - Multiracial  Grade 7 ELA 4s - Limited English Proficient  \\\n",
       "0                             0                                            0   \n",
       "1                             0                                            0   \n",
       "2                             0                                            0   \n",
       "\n",
       "   Grade 7 ELA 4s - Economically Disadvantaged  \\\n",
       "0                                            0   \n",
       "1                                            0   \n",
       "2                                            0   \n",
       "\n",
       "   Grade 7 Math - All Students Tested  Grade 7 Math 4s - All Students  \\\n",
       "0                                   0                               0   \n",
       "1                                   0                               0   \n",
       "2                                   0                               0   \n",
       "\n",
       "   Grade 7 Math 4s - American Indian or Alaska Native  \\\n",
       "0                                                  0    \n",
       "1                                                  0    \n",
       "2                                                  0    \n",
       "\n",
       "   Grade 7 Math 4s - Black or African American  \\\n",
       "0                                            0   \n",
       "1                                            0   \n",
       "2                                            0   \n",
       "\n",
       "   Grade 7 Math 4s - Hispanic or Latino  \\\n",
       "0                                     0   \n",
       "1                                     0   \n",
       "2                                     0   \n",
       "\n",
       "   Grade 7 Math 4s - Asian or Pacific Islander  Grade 7 Math 4s - White  \\\n",
       "0                                            0                        0   \n",
       "1                                            0                        0   \n",
       "2                                            0                        0   \n",
       "\n",
       "   Grade 7 Math 4s - Multiracial  \\\n",
       "0                              0   \n",
       "1                              0   \n",
       "2                              0   \n",
       "\n",
       "   Grade 7 Math 4s - Limited English Proficient  \\\n",
       "0                                             0   \n",
       "1                                             0   \n",
       "2                                             0   \n",
       "\n",
       "   Grade 7 Math 4s - Economically Disadvantaged  \\\n",
       "0                                             0   \n",
       "1                                             0   \n",
       "2                                             0   \n",
       "\n",
       "   Grade 8 ELA - All Students Tested  Grade 8 ELA 4s - All Students  \\\n",
       "0                                  0                              0   \n",
       "1                                  0                              0   \n",
       "2                                  0                              0   \n",
       "\n",
       "   Grade 8 ELA 4s - American Indian or Alaska Native  \\\n",
       "0                                                  0   \n",
       "1                                                  0   \n",
       "2                                                  0   \n",
       "\n",
       "   Grade 8 ELA 4s - Black or African American  \\\n",
       "0                                           0   \n",
       "1                                           0   \n",
       "2                                           0   \n",
       "\n",
       "   Grade 8 ELA 4s - Hispanic or Latino  \\\n",
       "0                                    0   \n",
       "1                                    0   \n",
       "2                                    0   \n",
       "\n",
       "   Grade 8 ELA 4s - Asian or Pacific Islander  Grade 8 ELA 4s - White  \\\n",
       "0                                           0                       0   \n",
       "1                                           0                       0   \n",
       "2                                           0                       0   \n",
       "\n",
       "   Grade 8 ELA 4s - Multiracial  Grade 8 ELA 4s - Limited English Proficient  \\\n",
       "0                             0                                            0   \n",
       "1                             0                                            0   \n",
       "2                             0                                            0   \n",
       "\n",
       "   Grade 8 ELA 4s - Economically Disadvantaged  \\\n",
       "0                                            0   \n",
       "1                                            0   \n",
       "2                                            0   \n",
       "\n",
       "   Grade 8 Math - All Students Tested  Grade 8 Math 4s - All Students  \\\n",
       "0                                   0                               0   \n",
       "1                                   0                               0   \n",
       "2                                   0                               0   \n",
       "\n",
       "   Grade 8 Math 4s - American Indian or Alaska Native  \\\n",
       "0                                                  0    \n",
       "1                                                  0    \n",
       "2                                                  0    \n",
       "\n",
       "   Grade 8 Math 4s - Black or African American  \\\n",
       "0                                            0   \n",
       "1                                            0   \n",
       "2                                            0   \n",
       "\n",
       "   Grade 8 Math 4s - Hispanic or Latino  \\\n",
       "0                                     0   \n",
       "1                                     0   \n",
       "2                                     0   \n",
       "\n",
       "   Grade 8 Math 4s - Asian or Pacific Islander  Grade 8 Math 4s - White  \\\n",
       "0                                            0                        0   \n",
       "1                                            0                        0   \n",
       "2                                            0                        0   \n",
       "\n",
       "   Grade 8 Math 4s - Multiracial  \\\n",
       "0                              0   \n",
       "1                              0   \n",
       "2                              0   \n",
       "\n",
       "   Grade 8 Math 4s - Limited English Proficient  \\\n",
       "0                                             0   \n",
       "1                                             0   \n",
       "2                                             0   \n",
       "\n",
       "   Grade 8 Math 4s - Economically Disadvantaged  \n",
       "0                                             0  \n",
       "1                                             0  \n",
       "2                                             0  "
      ]
     },
     "execution_count": 6,
     "metadata": {},
     "output_type": "execute_result"
    }
   ],
   "source": [
    "df.head(3)"
   ]
  },
  {
   "cell_type": "code",
   "execution_count": null,
   "metadata": {
    "_uuid": "c7175ab37d94f8e7776e0cd9322dabea9237b46a"
   },
   "outputs": [],
   "source": [
    "# There are 1272 schools in the data set\n",
    "df.shape"
   ]
  },
  {
   "cell_type": "code",
   "execution_count": null,
   "metadata": {
    "_uuid": "46b94966a6ed3c5f824a6eaaea6f43aa922edd97",
    "collapsed": true
   },
   "outputs": [],
   "source": [
    "# Preprocess some data\n",
    "# Create a function to convert the percentage to a fraction \n",
    "def p2f(x):\n",
    "    return float(x.strip('%'))/100\n",
    "\n",
    "df['Percent of Students Chronically Absent']=df['Percent of Students Chronically Absent'].astype(str).apply(p2f)\n",
    "df['Rigorous Instruction %'] = df['Rigorous Instruction %'].astype(str).apply(p2f)\n",
    "df['Collaborative Teachers %'] = df['Collaborative Teachers %'].astype(str).apply(p2f)\n",
    "df['Supportive Environment %'] = df['Supportive Environment %'].astype(str).apply(p2f)\n",
    "df['Effective School Leadership %'] = df['Effective School Leadership %'].astype(str).apply(p2f)\n",
    "df['Strong Family-Community Ties %'] = df['Strong Family-Community Ties %'].astype(str).apply(p2f)\n",
    "df['Trust %'] = df['Trust %'].astype(str).apply(p2f)\n",
    "df['Student Attendance Rate'] = df['Student Attendance Rate'].astype(str).apply(p2f)"
   ]
  },
  {
   "cell_type": "markdown",
   "metadata": {
    "_uuid": "6fdfb28061d21c587fa0b45e33bb2e273bd23f95"
   },
   "source": [
    "<a id='map_of_newyork'></a>\n",
    "# Map of New York\n",
    "***"
   ]
  },
  {
   "cell_type": "markdown",
   "metadata": {
    "_uuid": "a0467dc99aea47c4fc491ab3cc3f19f050de3c43"
   },
   "source": [
    "<img src='https://upload.wikimedia.org/wikipedia/commons/thumb/3/3d/Map_of_New_York_Economic_Regions.svg/2000px-Map_of_New_York_Economic_Regions.svg.png'/>"
   ]
  },
  {
   "cell_type": "markdown",
   "metadata": {
    "_uuid": "34f926f6c992f89d9064b0da6de4a4b56ce91b9f"
   },
   "source": [
    "# New York Map of Economic Need Index Distribution\n",
    "***"
   ]
  },
  {
   "cell_type": "markdown",
   "metadata": {
    "_uuid": "177bdd508a95dfdedecbbfbeeeec4fec91854b75"
   },
   "source": [
    "**More Red** =  Schools with **Higher Economic Need**\n",
    "\n",
    "**More Blue**  = School with **Less Economic Need**\n",
    "\n",
    "### Upper and Central New York Needs More Help\n",
    "Schools that are located in the **Upper and Central New York Area** have a **higher** economic need"
   ]
  },
  {
   "cell_type": "code",
   "execution_count": null,
   "metadata": {
    "_kg_hide-input": true,
    "_uuid": "3c7faf3f81998577656994bbf10030be6140e7e1",
    "collapsed": true
   },
   "outputs": [],
   "source": [
    "df['School Income Estimate'] = df['School Income Estimate'].str.replace(',', '')\n",
    "df['School Income Estimate'] = df['School Income Estimate'].str.replace('$', '')\n",
    "df['School Income Estimate'] = df['School Income Estimate'].str.replace(' ', '')\n",
    "df['School Income Estimate'] = df['School Income Estimate'].astype(float)"
   ]
  },
  {
   "cell_type": "code",
   "execution_count": null,
   "metadata": {
    "_uuid": "345c2a143ccc58d51f75b7a428d0bc46711505e1",
    "collapsed": true,
    "scrolled": true
   },
   "outputs": [],
   "source": [
    "df['School Income Estimate'] = df['School Income Estimate'].fillna(0)\n",
    "df['Economic Need Index'] = df['Economic Need Index'].fillna(0)\n"
   ]
  },
  {
   "cell_type": "code",
   "execution_count": null,
   "metadata": {
    "_kg_hide-input": true,
    "_kg_hide-output": true,
    "_uuid": "407f55858008012edcf67623a928616a34878ee0",
    "collapsed": true
   },
   "outputs": [],
   "source": [
    "# Static Version\n",
    "df.plot(kind=\"scatter\", x=\"Longitude\", y=\"Latitude\",\n",
    "    s=df['School Income Estimate']/1210, c=\"Economic Need Index\", cmap=plt.get_cmap(\"jet\"),\n",
    "        label='Schools', title='New York School Population Map',colorbar=True, alpha=0.4, figsize=(15,7))\n",
    "plt.legend()\n",
    "plt.show()"
   ]
  },
  {
   "cell_type": "code",
   "execution_count": null,
   "metadata": {
    "_kg_hide-input": true,
    "_uuid": "a7f516771cda79dc96c3d5049b1eaa32cddd9f4d",
    "collapsed": true,
    "scrolled": true
   },
   "outputs": [],
   "source": [
    "data = [\n",
    "    {\n",
    "        'x': df[\"Longitude\"],\n",
    "        'y': df[\"Latitude\"],\n",
    "        'text': df[\"School Name\"],\n",
    "        'mode': 'markers',\n",
    "        'marker': {\n",
    "            'color': df[\"Economic Need Index\"],\n",
    "            'size': df[\"School Income Estimate\"]/4500,\n",
    "            'showscale': True,\n",
    "            'colorscale':'Portland'\n",
    "        }\n",
    "    }\n",
    "]\n",
    "\n",
    "layout= go.Layout(\n",
    "    title= 'New York School Population (Economic Need Index)',\n",
    "    xaxis= dict(\n",
    "        title= 'Longitude'\n",
    "    ),\n",
    "    yaxis=dict(\n",
    "        title='Latitude'\n",
    "    ))\n",
    "fig = go.Figure(data=data, layout=layout)\n",
    "iplot(fig, filename='scatter_hover_labels')"
   ]
  },
  {
   "cell_type": "markdown",
   "metadata": {
    "_uuid": "b56945cae19eeec008782bd482f6af5eac67816d"
   },
   "source": [
    "<a id='black_hispanic_geomap'></a>\n",
    "# New York Map of Black/Hispanic Percentage of Schools\n",
    "***"
   ]
  },
  {
   "cell_type": "code",
   "execution_count": null,
   "metadata": {
    "_kg_hide-input": true,
    "_uuid": "0828b27c9943d9c55d7ed0edf79273629516a367",
    "collapsed": true
   },
   "outputs": [],
   "source": [
    "df['Percent Asian'] = df['Percent Asian'].apply(p2f)\n",
    "df['Percent Black'] = df['Percent Black'].apply(p2f)\n",
    "df['Percent Hispanic'] = df['Percent Hispanic'].apply(p2f)\n",
    "df['Percent White'] = df['Percent White'].apply(p2f)\n",
    "df['Percent Black / Hispanic'] = df['Percent Black / Hispanic'].apply(p2f)"
   ]
  },
  {
   "cell_type": "markdown",
   "metadata": {
    "_uuid": "bfa75c011ab128dc9ed8bca1c5e7a17c2621be16"
   },
   "source": [
    "### Central New York contains most of the Schools with Blacks\n",
    "Majority of the **black** population are living in **Central New York**. If you compare this to the Hispanic Population, they are totally isolated from each other. "
   ]
  },
  {
   "cell_type": "code",
   "execution_count": null,
   "metadata": {
    "_kg_hide-input": true,
    "_uuid": "c1c215ffac427a8c22161107c811724521e6e2e9",
    "collapsed": true
   },
   "outputs": [],
   "source": [
    "data = [\n",
    "    {\n",
    "        'x': df[\"Longitude\"],\n",
    "        'y': df[\"Latitude\"],\n",
    "        'text': df[\"School Name\"],\n",
    "        'mode': 'markers',\n",
    "        'marker': {\n",
    "            'color': df[\"Percent Black\"],\n",
    "            'size': df[\"School Income Estimate\"]/4500,\n",
    "            'showscale': True,\n",
    "            'colorscale':'Portland'\n",
    "        }\n",
    "    }\n",
    "]\n",
    "\n",
    "layout= go.Layout(\n",
    "    title= 'New York Black Student Ratio Of School',\n",
    "    xaxis= dict(\n",
    "        title= 'Longitude'\n",
    "    ),\n",
    "    yaxis=dict(\n",
    "        title='Latitude'\n",
    "    )\n",
    ")\n",
    "fig = go.Figure(data=data, layout=layout)\n",
    "iplot(fig, filename='scatter_hover_labels')"
   ]
  },
  {
   "cell_type": "markdown",
   "metadata": {
    "_uuid": "288cbeac5eb75fd7725ce49decd4a7e5b9dc23f0"
   },
   "source": [
    "### Upper New York contains most of the Schools with Hispanics\n",
    "Majority of the **hispanic** population are living in **Upper New York**. Again, notice how there are a few Hispanics in Central New York while there are a majority of Blacks in Central New York."
   ]
  },
  {
   "cell_type": "code",
   "execution_count": null,
   "metadata": {
    "_kg_hide-input": true,
    "_uuid": "113fc73f8f055ca8da9360d2d58f78f74d64e424",
    "collapsed": true
   },
   "outputs": [],
   "source": [
    "data = [\n",
    "    {\n",
    "        'x': df[\"Longitude\"],\n",
    "        'y': df[\"Latitude\"],\n",
    "        'text': df[\"School Name\"],\n",
    "        'mode': 'markers',\n",
    "        'marker': {\n",
    "            'color': df[\"Percent Hispanic\"],\n",
    "            'size': df[\"School Income Estimate\"]/4500,\n",
    "            'showscale': True,\n",
    "            'colorscale':'Portland'\n",
    "        }\n",
    "    }\n",
    "]\n",
    "\n",
    "layout= go.Layout(\n",
    "    title= 'New York Hispanic Student Ratio Of School',\n",
    "    xaxis= dict(\n",
    "        title= 'Longitude'\n",
    "    ),\n",
    "    yaxis=dict(\n",
    "        title='Latitude'\n",
    "    )\n",
    ")\n",
    "fig = go.Figure(data=data, layout=layout)\n",
    "iplot(fig, filename='scatter_hover_labels')"
   ]
  },
  {
   "cell_type": "code",
   "execution_count": null,
   "metadata": {
    "_kg_hide-input": true,
    "_kg_hide-output": true,
    "_uuid": "7c1508ad2ca2cddbbee37b094bc919748fa53eb2",
    "collapsed": true
   },
   "outputs": [],
   "source": [
    "# Static Figure\n",
    "# Set up the matplotlib figure\n",
    "f, axes = plt.subplots(ncols=2, figsize=(15, 6))\n",
    "\n",
    "df.plot(kind=\"scatter\", x=\"Longitude\", y=\"Latitude\", ax=axes[0],\n",
    "    s=df['Economic Need Index']*100, c=\"Percent Black\", cmap=plt.get_cmap(\"jet\"),label='Schools', title='Black Population Percentage of Schools',\n",
    "    colorbar=True, alpha=0.3, figsize=(15,7))\n",
    "\n",
    "df.plot(kind=\"scatter\", x=\"Longitude\", y=\"Latitude\", ax=axes[1],\n",
    "    s=df['Economic Need Index']*100, c=\"Percent Hispanic\", cmap=plt.get_cmap(\"jet\"),label='Schools', title='Hispanic Population Percentage of Schools',\n",
    "    colorbar=True, alpha=0.3, figsize=(15,7))\n",
    "\n",
    "plt.legend()\n",
    "plt.show()"
   ]
  },
  {
   "cell_type": "markdown",
   "metadata": {
    "_uuid": "ced5f9ac67faeba66a68a092bc479dc7ee0ee947"
   },
   "source": [
    "<a id='asian_white_geomap'></a>\n",
    "# New York Map of Asian/White Percentage of Schools"
   ]
  },
  {
   "cell_type": "markdown",
   "metadata": {
    "_uuid": "49d10c55f01f40da8f7b2d5c903bc7428e1fdfe6"
   },
   "source": [
    "The **Asian** population are mostly living in Central New York.\n",
    "\n",
    "The **White** Population has a very noticeable cluster near the **edge and lower** parts of New York."
   ]
  },
  {
   "cell_type": "code",
   "execution_count": null,
   "metadata": {
    "_kg_hide-input": true,
    "_uuid": "62156792ff78ed8046d8eac8dda074e90387b648",
    "collapsed": true,
    "scrolled": true
   },
   "outputs": [],
   "source": [
    "# Set up the matplotlib figure\n",
    "f, axes = plt.subplots(ncols=2, figsize=(15, 6))\n",
    "\n",
    "df.plot(kind=\"scatter\", x=\"Longitude\", y=\"Latitude\", ax=axes[0],\n",
    "    s=df['Economic Need Index']*100, c=\"Percent Asian\", label='Schools', title='Asian Population Percentage of Schools',\n",
    "    colorbar=True, alpha=0.3, figsize=(15,5))\n",
    "\n",
    "df.plot(kind=\"scatter\", x=\"Longitude\", y=\"Latitude\", ax=axes[1],\n",
    "    s=df['Economic Need Index']*130, c=\"Percent White\", label='Schools', title='White Population Percentage of Schools',\n",
    "    colorbar=True, alpha=1, figsize=(15,5))\n",
    "\n",
    "plt.legend()\n",
    "plt.show()"
   ]
  },
  {
   "cell_type": "markdown",
   "metadata": {
    "_uuid": "12b63dd7a945c24c9ea04a56611212de236f9747"
   },
   "source": [
    "# Race Percentage Distribution from Schools\n",
    "***\n",
    "\n",
    "**Interesting Find:**\n",
    "\n",
    "- Majority of **Whites and Asians** are representing **10%** of the school's population\n",
    "- **Blacks and Hispanics** represent majority of the school's population"
   ]
  },
  {
   "cell_type": "markdown",
   "metadata": {
    "_uuid": "1814b216a51762e118c3f28826729088ba542fa1"
   },
   "source": [
    "<img src='https://i.imgur.com/Zo3b3jC.gif'/>"
   ]
  },
  {
   "cell_type": "markdown",
   "metadata": {
    "_uuid": "6d5766590fc98af109bb78ea0dfb8de915456d1b"
   },
   "source": [
    "### White and Asian Distribution\n"
   ]
  },
  {
   "cell_type": "code",
   "execution_count": null,
   "metadata": {
    "_kg_hide-input": true,
    "_uuid": "a4e9f60218561e3e70d9a38c3008c5b520491af8",
    "collapsed": true,
    "scrolled": false
   },
   "outputs": [],
   "source": [
    "\n",
    "# Set up the matplotlib figure\n",
    "f, axes = plt.subplots(ncols=2, figsize=(15, 6))\n",
    "\n",
    "# Graph Employee Satisfaction\n",
    "sns.distplot(df['Percent Asian'], kde=False, color=\"g\", ax=axes[0], bins=25).set_title('% Asian Distribution')\n",
    "axes[0].set_ylabel('School Count')\n",
    "\n",
    "# Graph Employee Evaluation\n",
    "sns.distplot(df['Percent White'], kde=False, color=\"r\", ax=axes[1], bins=25).set_title('% White Distribution')\n",
    "axes[1].set_ylabel('Employee Count')"
   ]
  },
  {
   "cell_type": "markdown",
   "metadata": {
    "_uuid": "1f1bc7755d5df1c72d680a5f57aeb22f98a07819"
   },
   "source": [
    "### Blacks and Hispanics Distribution"
   ]
  },
  {
   "cell_type": "code",
   "execution_count": null,
   "metadata": {
    "_kg_hide-input": true,
    "_uuid": "815fa7ec2a5121123cb791819a475098b43f1ed1",
    "collapsed": true
   },
   "outputs": [],
   "source": [
    "# Set up the matplotlib figure\n",
    "f, axes = plt.subplots(ncols=2, figsize=(15, 6))\n",
    "\n",
    "# Graph Employee Average Monthly Hours\n",
    "sns.distplot(df['Percent Black'], kde=False, color=\"b\", ax=axes[0], bins=35).set_title('% Black Distribution')\n",
    "axes[0].set_ylabel('Employee Count')\n",
    "\n",
    "# Graph Employee Average Monthly Hours\n",
    "sns.distplot(df['Percent Hispanic'], kde=False, color=\"r\", ax=axes[1], bins=35).set_title('% Hispanic Distribution')\n",
    "axes[1].set_ylabel('Employee Count')\n"
   ]
  },
  {
   "cell_type": "code",
   "execution_count": null,
   "metadata": {
    "_uuid": "52eb5d8df519f37e8b77057784348d944794bbd7",
    "collapsed": true
   },
   "outputs": [],
   "source": [
    "df.head(1)"
   ]
  },
  {
   "cell_type": "markdown",
   "metadata": {
    "_uuid": "762b1d50b7a0fcc264b575c0d17026301bf5752e"
   },
   "source": [
    "<img src='https://static.wixstatic.com/media/e5b05f_8e0f67f402404d7a9307fe5115d9f40d~mv2.gif'/>"
   ]
  },
  {
   "cell_type": "markdown",
   "metadata": {
    "_uuid": "9dff723104a195876acb709fe1e8144ae2f28adf"
   },
   "source": [
    "<a id='correlation'></a>\n",
    "# Correlation Matrix \n",
    "***\n",
    "\n",
    "Using our numeric features, let's take a look at our correlation matrix. **Here are some interesting correlations:**\n",
    "\n",
    "### Economic Need Index\n",
    "- Schools with **more White Students** have a **lower economic need index**, meaning the schools are operating just fine without the need of help.\n",
    "- Schools with **more Asian Students** have a **slightly lower economic need index**.\n",
    "- Schools with **more Black/Hispanic Students** have a **higher economic need index**, meaning the schools are in need of help.\n",
    "- Schools with **more Chronically Absent Students** have a **higher economic need index**\n",
    "\n",
    "### School Income Estimate\n",
    "- Schools with **more White/Asian Students** have a **higher school income estimate**.\n",
    "- Schools with **more Black/Hispanic Students** have a **lower school income estimate**\n"
   ]
  },
  {
   "cell_type": "code",
   "execution_count": null,
   "metadata": {
    "_kg_hide-input": true,
    "_uuid": "349b62c4b181a89cfa618765aeb80506311358f1",
    "collapsed": true
   },
   "outputs": [],
   "source": [
    "df2 = df.iloc[:,[16,17,19,20,21,22,23,24,25,26,28,30,32,34,36]]\n",
    "#Correlation Matrix\n",
    "corr = df2.corr()\n",
    "corr = (corr)\n",
    "sns.heatmap(corr, \n",
    "            xticklabels=corr.columns.values,\n",
    "            yticklabels=corr.columns.values,\n",
    "            cmap=\"RdYlGn\", center=0)"
   ]
  },
  {
   "cell_type": "markdown",
   "metadata": {
    "_uuid": "7f35ae6a627fc6679c31bba712e20bd9473245c6"
   },
   "source": [
    "<a id='race_economic'></a>\n",
    "# Student Race & Economic Need Index\n",
    "***\n",
    "\n",
    "This is a really interesting find:\n",
    "- Schools with a **Higher White and Asian** Population tend to have a **Lower Economic Need Index Score**.\n",
    "- Schools with a **Higher Hispanic and Black** Population tend to have a **Higher Economic Need Index Score**.\n",
    "\n",
    "Our main focus should be to try and understand what is making the **Hispanic and Black** Students in need of help."
   ]
  },
  {
   "cell_type": "code",
   "execution_count": null,
   "metadata": {
    "_kg_hide-input": true,
    "_uuid": "f585ddfddc3a8e10cde7de050f0989456a59032d",
    "collapsed": true
   },
   "outputs": [],
   "source": [
    "f, axes = plt.subplots(2, 2, figsize=(19, 9), sharex=True)\n",
    "sns.despine(left=True)\n",
    "\n",
    "sns.regplot(x=df[\"Economic Need Index\"], y=df[\"Percent Asian\"], color='purple', ax=axes[0, 0], line_kws={\"color\": \"black\"})\n",
    "sns.regplot(x=df[\"Economic Need Index\"], y=df[\"Percent White\"], color='g', ax=axes[0, 1], line_kws={\"color\": \"black\"})\n",
    "sns.regplot(x=df[\"Economic Need Index\"], y=df[\"Percent Black\"], color='b', ax=axes[1, 0], line_kws={\"color\": \"black\"})\n",
    "sns.regplot(x=df[\"Economic Need Index\"], y=df[\"Percent Hispanic\"], color='r', ax=axes[1, 1], line_kws={\"color\": \"black\"})\n",
    "\n",
    "axes[0,0].set_title('Ecnomic Need Index (Asian)')\n",
    "axes[0,1].set_title('Ecnomic Need Index (White)')\n",
    "axes[1,0].set_title('Ecnomic Need Index (Black)')\n",
    "axes[1,1].set_title('Ecnomic Need Index (Hispanic)')\n",
    "\n",
    "plt.subplots_adjust(hspace=0.4)\n"
   ]
  },
  {
   "cell_type": "markdown",
   "metadata": {
    "_uuid": "77d58b297ba0a219934878690d6321ca12896258"
   },
   "source": [
    "<a id='school_attendance'></a>\n",
    "# Schools and Student Attendance \n",
    "***\n",
    "\n",
    "### Question\n",
    "Is there a difference between the students in schools with higher-to-lower attendance rate?\n",
    "\n",
    "Our goal is to find good **proxies** for **underdeveloped schools**. Let's see if there are any differences between the attendance rate.\n",
    "\n",
    "### Idea\n",
    "With these two groups, we can perform some **hypothesis testing** to see if there really are any statistical significance of different metrics (ex. Income, Economic Index Need, and Race) between Schools with 30% Absent Rate and 10% Absent Rate.\n",
    "\n",
    "### Interesting Find\n",
    "As you can see, the **average absent rate** for students is about **20%**.\n",
    "\n",
    "Let's dive in deep to understand if there are any real differences between schools with an **absent rate of <= 11%** and an **absent rate of >= 30%**."
   ]
  },
  {
   "cell_type": "code",
   "execution_count": null,
   "metadata": {
    "_uuid": "b7dec8bdcc4257fd04b02e6eb48736f6a529e85a",
    "collapsed": true
   },
   "outputs": [],
   "source": [
    "# Create a dataframe of schools with an absent rate of 30% or more.\n",
    "absent_30 = df[df['Percent of Students Chronically Absent']>=.30]\n",
    "\n",
    "# Create a dataframe of schools with an absent rate of 11% or less.\n",
    "absent_11 = df[df['Percent of Students Chronically Absent']<=.11]\n",
    "\n",
    "# Exploring School Absent Rate \n",
    "df['Percent of Students Chronically Absent'].describe()"
   ]
  },
  {
   "cell_type": "markdown",
   "metadata": {
    "_uuid": "9bb54a4dfe6f073d93cfecf800b627a665dfbcac"
   },
   "source": [
    "## Schools with 30% Absent Ratio:\n",
    "- Average **Economic Need Index** at **84%**\n",
    "- Average **School Income** at **$33,000**\n",
    "- **Asians and Whites** make up about **5%** of the students in these schools.\n",
    "- **Blacks and Hispanics** make up about **95%** of the students in these schools.\n",
    "\n",
    "## Schools with 10% Absent Ratio:\n",
    "- Average **Economic Need Index** at **48%**\n",
    "- Average **School Income** at **$64,000**\n",
    "- **Asians and Whites** make up about **52%** of the students in these schools.\n",
    "- **Blacks and Hispanics** make up about **48%** of the students in these schools."
   ]
  },
  {
   "cell_type": "markdown",
   "metadata": {
    "_uuid": "d8f9b9eb43e17bef545c90a4317005f706559735"
   },
   "source": [
    "### Schools with 30% Absent Rate"
   ]
  },
  {
   "cell_type": "code",
   "execution_count": null,
   "metadata": {
    "_uuid": "b533ff161dc211014acaed3a40b36b4776883cd0",
    "collapsed": true
   },
   "outputs": [],
   "source": [
    "absent_30.iloc[:,[15,16,17,23,19,20,21,22]].describe()"
   ]
  },
  {
   "cell_type": "markdown",
   "metadata": {
    "_uuid": "b425a3506d59665cdbf27599c1b102f63ec6ae44"
   },
   "source": [
    "### Schools with 10% Absent Rate"
   ]
  },
  {
   "cell_type": "code",
   "execution_count": null,
   "metadata": {
    "_uuid": "5db1971da8b09b5ff20c089658d0c1c6edc5c7ae",
    "collapsed": true,
    "scrolled": true
   },
   "outputs": [],
   "source": [
    "absent_11.iloc[:,[3,15,16,17,23,19,20,21,22]].describe()"
   ]
  },
  {
   "cell_type": "markdown",
   "metadata": {
    "_uuid": "232d9251d109d2ea1d9e8d514bbb87b40362a4bf"
   },
   "source": [
    "## Location of High and Low Absent Rate Schools\n",
    "***"
   ]
  },
  {
   "cell_type": "markdown",
   "metadata": {
    "_uuid": "83ed5f38bb3888e480bcf037b0e2178409c8104d"
   },
   "source": [
    "## Shools with 30% Absent Rate\n",
    "The schools with **30%** absent rate are **more clumped** in the **Central** and **Upper** regions of New York."
   ]
  },
  {
   "cell_type": "code",
   "execution_count": null,
   "metadata": {
    "_kg_hide-input": true,
    "_uuid": "809b0852254344a82bb306e224eb25779ac71369",
    "collapsed": true
   },
   "outputs": [],
   "source": [
    "data = [\n",
    "    {\n",
    "        'x': absent_30[\"Longitude\"],\n",
    "        'y': absent_30[\"Latitude\"],\n",
    "        'text': absent_30[\"School Name\"],\n",
    "        'mode': 'markers',\n",
    "        'marker': {\n",
    "            'color': df[\"Economic Need Index\"],\n",
    "            'size': df[\"School Income Estimate\"]/4500,\n",
    "            'showscale': True,\n",
    "            'colorscale':'Portland'\n",
    "        }\n",
    "    }\n",
    "]\n",
    "\n",
    "layout= go.Layout(\n",
    "    title= 'Schools with 30% Absent Rate',\n",
    "    xaxis= dict(\n",
    "        title= 'Longitude'\n",
    "    ),\n",
    "    yaxis=dict(\n",
    "        title='Latitude'\n",
    "    )\n",
    ")\n",
    "fig = go.Figure(data=data, layout=layout)\n",
    "iplot(fig, filename='scatter_hover_labels')"
   ]
  },
  {
   "cell_type": "markdown",
   "metadata": {
    "_uuid": "b9ad52f047c7e73759af241060d07619ed7d9d91"
   },
   "source": [
    "## Scools with 10% Absent Rate\n",
    "The scools with **10%** absent rate are **more dispersed** around the New York area."
   ]
  },
  {
   "cell_type": "code",
   "execution_count": null,
   "metadata": {
    "_kg_hide-input": true,
    "_uuid": "000aff7174658b496e5d086a5c48d0df5ada5b94",
    "collapsed": true
   },
   "outputs": [],
   "source": [
    "data = [\n",
    "    {\n",
    "        'x': absent_11[\"Longitude\"],\n",
    "        'y': absent_11[\"Latitude\"],\n",
    "        'text': absent_11[\"School Name\"],\n",
    "        'mode': 'markers',\n",
    "        'marker': {\n",
    "            'color': df[\"Economic Need Index\"],\n",
    "            'size': df[\"School Income Estimate\"]/4500,\n",
    "            'showscale': True,\n",
    "            'colorscale':'Portland'\n",
    "        }\n",
    "    }\n",
    "]\n",
    "\n",
    "layout= go.Layout(\n",
    "    title= 'Schools with 10% Absent Rate',\n",
    "    xaxis= dict(\n",
    "        title= 'Longitude'\n",
    "    ),\n",
    "    yaxis=dict(\n",
    "        title='Latitude'\n",
    "    )\n",
    ")\n",
    "fig = go.Figure(data=data, layout=layout)\n",
    "iplot(fig, filename='scatter_hover_labels')"
   ]
  },
  {
   "cell_type": "code",
   "execution_count": null,
   "metadata": {
    "_kg_hide-input": true,
    "_uuid": "e20319f6a40d97ff9254d25fcf797418a24b4a16",
    "collapsed": true
   },
   "outputs": [],
   "source": [
    "# Set up the matplotlib figure\n",
    "f, axes = plt.subplots(ncols=2, figsize=(15, 6))\n",
    "\n",
    "absent_11.plot(kind=\"scatter\", x=\"Longitude\", y=\"Latitude\", ax=axes[0],\n",
    "    s=absent_11['Economic Need Index']*100, c=\"School Income Estimate\", cmap=plt.get_cmap(\"jet\"),label='Schools', title='Schools with 10% Absent Rate',\n",
    "    colorbar=True, alpha=0.3, figsize=(15,7))\n",
    "\n",
    "absent_30.plot(kind=\"scatter\", x=\"Longitude\", y=\"Latitude\", ax=axes[1],\n",
    "    s=absent_30['Economic Need Index']*100, c=\"School Income Estimate\", cmap=plt.get_cmap(\"jet\"),label='Schools', title='Schools with 30% Absent Rate',\n",
    "    colorbar=True, alpha=0.4, figsize=(15,7))\n",
    "\n",
    "plt.show()"
   ]
  },
  {
   "cell_type": "markdown",
   "metadata": {
    "_uuid": "b35f07cc934ded40bd7d0a75415b456c373a384e"
   },
   "source": [
    "<img src='https://cdn.dribbble.com/users/634508/screenshots/3192625/designschool_dribbble_2.gif'/>\n",
    "\n",
    "<a id='student_performance'></a>\n",
    "# Student ELA & Math Performance  By Race\n",
    "***\n",
    "\n",
    "This is a very debatable topic, but it is something I really wanted to share. \n",
    "\n",
    "I've split up the samples into two groups: \n",
    "- **Black/Hispanic Dominant** \n",
    "- **White/Asian Dominant**\n",
    "\n",
    "My splitting criteria for Black/Hispanic Dominant Schools were if **Percent Black/Hispanic >= 70%**, else it'll be White/Asian Dominant.\n",
    "***\n",
    "\n",
    "**Interesting Find:**\n",
    "\n",
    "- **Black/Hispanic** dominant schools have an Average **ELA Score** of **2.35**.\n",
    "- **Black/Hispanic** dominant schools have an Average **Math Score** of **2.44**.\n",
    "\n",
    "\n",
    "- **White/Asian** dominant schools have an Average **ELA Score** of  **3.04**.\n",
    "- **White/Asian** dominant schools have an Average **Math Score** of  **3.32**.\n",
    "\n",
    "And if you look at the distributions of both groups below, you can definitely see a clear distinction between the **Quality of Math and ELA Performance**. \n"
   ]
  },
  {
   "cell_type": "code",
   "execution_count": null,
   "metadata": {
    "_uuid": "7e37c75582679e01074cc770ee76f2c77eda3abd",
    "collapsed": true
   },
   "outputs": [],
   "source": [
    "# Display the Mean ELA and Math Scores for Black/Hispanic Dominant Schools\n",
    "df[df['Percent Black / Hispanic'] >= .70][['Average ELA Proficiency','Average Math Proficiency']].mean()"
   ]
  },
  {
   "cell_type": "code",
   "execution_count": null,
   "metadata": {
    "_uuid": "9beb8991ccfe03a14d2122541d0435f7fa65edfa",
    "collapsed": true
   },
   "outputs": [],
   "source": [
    "# Display the Mean ELA and Math Scores for White/Asian Dominant Schools\n",
    "df[df['Percent Black / Hispanic'] <= .30][['Average ELA Proficiency','Average Math Proficiency']].mean()"
   ]
  },
  {
   "cell_type": "markdown",
   "metadata": {
    "_uuid": "f35e76a7a32a7e9cdc2c45ea765afec62495636f"
   },
   "source": [
    "## Average Math Scores for Schools by Gender\n",
    "***"
   ]
  },
  {
   "cell_type": "code",
   "execution_count": null,
   "metadata": {
    "_kg_hide-input": true,
    "_uuid": "c220cc5415260c914f940b4eb9638e51df5550b5",
    "collapsed": true
   },
   "outputs": [],
   "source": [
    "# Create New Column for Black/Hispanic Dominant Schools\n",
    "df['Black_Hispanic_Dominant'] = df['Percent Black / Hispanic'] >= .70\n",
    "\n",
    "#KDEPlot: Kernel Density Estimate Plot\n",
    "fig = plt.figure(figsize=(15,4))\n",
    "ax=sns.kdeplot(df.loc[(df['Black_Hispanic_Dominant'] == True),'Average Math Proficiency'] , color='b',shade=True, label='Black/Hispanic Dominant School')\n",
    "ax=sns.kdeplot(df.loc[(df['Black_Hispanic_Dominant'] == False),'Average Math Proficiency'] , color='r',shade=True, label='Asian/White Dominant School')\n",
    "plt.title('Average Math Proficiency Distribution by Race')\n",
    "plt.xlabel('Average Math Proficiency Score')\n",
    "plt.ylabel('Frequency Count')"
   ]
  },
  {
   "cell_type": "markdown",
   "metadata": {
    "_uuid": "dbd228c47e7eaed060333527a3495d648665e40d"
   },
   "source": [
    "## Average ELA Scores for Schools by Gender\n",
    "***"
   ]
  },
  {
   "cell_type": "code",
   "execution_count": null,
   "metadata": {
    "_kg_hide-input": true,
    "_uuid": "1f145d40c61a6fa04e1b78eff129a9c1bd1faa8c",
    "collapsed": true,
    "scrolled": true
   },
   "outputs": [],
   "source": [
    "#KDEPlot: Kernel Density Estimate Plot\n",
    "fig = plt.figure(figsize=(15,4))\n",
    "ax=sns.kdeplot(df.loc[(df['Black_Hispanic_Dominant'] == True),'Average ELA Proficiency'] , color='b',shade=True, label='Black/Hispanic Dominant School')\n",
    "ax=sns.kdeplot(df.loc[(df['Black_Hispanic_Dominant'] == False),'Average ELA Proficiency'] , color='g',shade=True, label='Asian/White Dominant School')\n",
    "plt.title('Average ELA Proficiency Distribution by Race')\n",
    "plt.xlabel('Average ELA Proficiency Score')\n",
    "plt.ylabel('Frequency Count')"
   ]
  },
  {
   "cell_type": "markdown",
   "metadata": {
    "_uuid": "a55a0adb1d9472f06a6cd188fc27a1cadf5ed7b3"
   },
   "source": [
    "<a id='math_test'></a>\n",
    "# Math Test Performance By Race (Grade 3 - 8)\n",
    "***\n",
    "\n",
    "From the graph below, **Asians and Whites** have a **higher** count of scoring **4s on their Math Test**. \n",
    "\n",
    "**Blacks and Hispanics** have a **low** count for scoring **4s on their Math Test**."
   ]
  },
  {
   "cell_type": "code",
   "execution_count": null,
   "metadata": {
    "_kg_hide-input": true,
    "_kg_hide-output": false,
    "_uuid": "576bbfd9bad9ea7ee4f72f8503531316b703a39b",
    "collapsed": true
   },
   "outputs": [],
   "source": [
    "# Create the math scores for each race\n",
    "asian_math = []\n",
    "asian_math.append(sum(df['Grade 3 Math 4s - Asian or Pacific Islander']))\n",
    "asian_math.append(sum(df['Grade 4 Math 4s - Asian or Pacific Islander']))\n",
    "asian_math.append(sum(df['Grade 5 Math 4s - Asian or Pacific Islander']))\n",
    "asian_math.append(sum(df['Grade 6 Math 4s - Asian or Pacific Islander']))\n",
    "asian_math.append(sum(df['Grade 7 Math 4s - Asian or Pacific Islander']))\n",
    "asian_math.append(sum(df['Grade 8 Math 4s - Asian or Pacific Islander']))\n",
    "\n",
    "white_math = []\n",
    "white_math.append(sum(df['Grade 3 Math 4s - White']))\n",
    "white_math.append(sum(df['Grade 4 Math 4s - White']))\n",
    "white_math.append(sum(df['Grade 5 Math 4s - White']))\n",
    "white_math.append(sum(df['Grade 6 Math 4s - White']))\n",
    "white_math.append(sum(df['Grade 7 Math 4s - White']))\n",
    "white_math.append(sum(df['Grade 8 Math 4s - White']))\n",
    "\n",
    "black_math = []\n",
    "black_math.append(sum(df['Grade 3 Math 4s - Black or African American']))\n",
    "black_math.append(sum(df['Grade 4 Math 4s - Black or African American']))\n",
    "black_math.append(sum(df['Grade 5 Math 4s - Black or African American']))\n",
    "black_math.append(sum(df['Grade 6 Math 4s - Black or African American']))\n",
    "black_math.append(sum(df['Grade 7 Math 4s - Black or African American']))\n",
    "black_math.append(sum(df['Grade 8 Math 4s - Black or African American']))\n",
    "\n",
    "hispanic_math = []\n",
    "hispanic_math.append(sum(df['Grade 3 Math 4s - Hispanic or Latino']))\n",
    "hispanic_math.append(sum(df['Grade 4 Math 4s - Hispanic or Latino']))\n",
    "hispanic_math.append(sum(df['Grade 5 Math 4s - Hispanic or Latino']))\n",
    "hispanic_math.append(sum(df['Grade 6 Math 4s - Hispanic or Latino']))\n",
    "hispanic_math.append(sum(df['Grade 7 Math 4s - Hispanic or Latino']))\n",
    "hispanic_math.append(sum(df['Grade 8 Math 4s - Hispanic or Latino']))"
   ]
  },
  {
   "cell_type": "code",
   "execution_count": null,
   "metadata": {
    "_uuid": "d5f14f117bf8d805ec6bfff05cc44bfa8e666b54",
    "collapsed": true
   },
   "outputs": [],
   "source": [
    "# Create dataframe of math scores\n",
    "race_mathscores = pd.DataFrame({'Asian Math':asian_math,'Black Math':black_math,'White Math':white_math, 'Hispanic Math':hispanic_math})\n",
    "race_mathscores['Grade'] = [3,4,5,6,7,8]\n",
    "race_mathscores"
   ]
  },
  {
   "cell_type": "code",
   "execution_count": null,
   "metadata": {
    "_uuid": "154939fc0afa3ed2c3d808246dd1e9480f2b6dad",
    "collapsed": true
   },
   "outputs": [],
   "source": [
    "# Create a trace\n",
    "trace = go.Scatter(\n",
    "    x = race_mathscores['Grade'],\n",
    "    y = race_mathscores['Asian Math'],\n",
    "    name = 'Asian Students'\n",
    ")\n",
    "\n",
    "trace2 = go.Scatter(\n",
    "    x = race_mathscores['Grade'],\n",
    "    y = race_mathscores['Hispanic Math'],\n",
    "    name = 'Hispanic Students'\n",
    ")\n",
    "\n",
    "trace3 = go.Scatter(\n",
    "    x = race_mathscores['Grade'],\n",
    "    y = race_mathscores['Black Math'],\n",
    "    name = 'Black Students'\n",
    ")\n",
    "\n",
    "trace4 = go.Scatter(\n",
    "    x = race_mathscores['Grade'],\n",
    "    y = race_mathscores['White Math'],\n",
    "    name = 'White Students'\n",
    ")\n",
    "\n",
    "layout= go.Layout(\n",
    "    title= 'Student Math 4s Performance By Grade (Race)',\n",
    "    xaxis= dict(\n",
    "        title= 'Grade Level'\n",
    "    ),\n",
    "    yaxis=dict(\n",
    "        title='# of Students Receiving Math 4s'\n",
    "    )\n",
    ")\n",
    "\n",
    "data = [trace, trace2, trace3, trace4]\n",
    "\n",
    "fig = go.Figure(data=data, layout=layout)\n",
    "iplot(fig, filename='scatter_hover_labels')"
   ]
  },
  {
   "cell_type": "markdown",
   "metadata": {
    "_uuid": "debe66330ae0a03202efacab4a0ea496be5f106e"
   },
   "source": [
    "<a id='ela_test'></a>\n",
    "# ELA Test Performance By Race (Grade 3-8)\n",
    "***\n",
    "\n",
    "**Asians** still dominate test performance with **ELA 4s**. What really caught my attention was the spike of score increase from **Grade 5-6** for **Asians**. \n",
    "\n",
    "Also, compared to the Math 4s, there is an **increase in performance over time** for **ELA 4s**."
   ]
  },
  {
   "cell_type": "code",
   "execution_count": null,
   "metadata": {
    "_kg_hide-input": true,
    "_uuid": "e1b125e6e6f0cc44404455d195b75643a1af5d9f",
    "collapsed": true
   },
   "outputs": [],
   "source": [
    "# Create the math scores for each race\n",
    "asian_ELA = []\n",
    "asian_ELA.append(sum(df['Grade 3 ELA 4s - Asian or Pacific Islander']))\n",
    "asian_ELA.append(sum(df['Grade 4 ELA 4s - Asian or Pacific Islander']))\n",
    "asian_ELA.append(sum(df['Grade 5 ELA 4s - Asian or Pacific Islander']))\n",
    "asian_ELA.append(sum(df['Grade 6 ELA 4s - Asian or Pacific Islander']))\n",
    "asian_ELA.append(sum(df['Grade 7 ELA 4s - Asian or Pacific Islander']))\n",
    "asian_ELA.append(sum(df['Grade 8 ELA 4s - Asian or Pacific Islander']))\n",
    "\n",
    "white_ELA = []\n",
    "white_ELA.append(sum(df['Grade 3 ELA 4s - White']))\n",
    "white_ELA.append(sum(df['Grade 4 ELA 4s - White']))\n",
    "white_ELA.append(sum(df['Grade 5 ELA 4s - White']))\n",
    "white_ELA.append(sum(df['Grade 6 ELA 4s - White']))\n",
    "white_ELA.append(sum(df['Grade 7 ELA 4s - White']))\n",
    "white_ELA.append(sum(df['Grade 8 ELA 4s - White']))\n",
    "\n",
    "black_ELA = []\n",
    "black_ELA.append(sum(df['Grade 3 ELA 4s - Black or African American']))\n",
    "black_ELA.append(sum(df['Grade 4 ELA 4s - Black or African American']))\n",
    "black_ELA.append(sum(df['Grade 5 ELA 4s - Black or African American']))\n",
    "black_ELA.append(sum(df['Grade 6 ELA 4s - Black or African American']))\n",
    "black_ELA.append(sum(df['Grade 7 ELA 4s - Black or African American']))\n",
    "black_ELA.append(sum(df['Grade 8 ELA 4s - Black or African American']))\n",
    "\n",
    "hispanic_ELA = []\n",
    "hispanic_ELA.append(sum(df['Grade 3 ELA 4s - Hispanic or Latino']))\n",
    "hispanic_ELA.append(sum(df['Grade 4 ELA 4s - Hispanic or Latino']))\n",
    "hispanic_ELA.append(sum(df['Grade 5 ELA 4s - Hispanic or Latino']))\n",
    "hispanic_ELA.append(sum(df['Grade 6 ELA 4s - Hispanic or Latino']))\n",
    "hispanic_ELA.append(sum(df['Grade 7 ELA 4s - Hispanic or Latino']))\n",
    "hispanic_ELA.append(sum(df['Grade 8 ELA 4s - Hispanic or Latino']))"
   ]
  },
  {
   "cell_type": "code",
   "execution_count": null,
   "metadata": {
    "_uuid": "5e6fcf8533c7f7ff9cdb191081c44e909bb2dba3",
    "collapsed": true
   },
   "outputs": [],
   "source": [
    "# Create dataframe of ELA scores\n",
    "race_ELA = pd.DataFrame({'Asian ELA':asian_ELA,'Black ELA':black_ELA,'White ELA':white_ELA, 'Hispanic ELA':hispanic_ELA})\n",
    "race_ELA['Grade'] = [3,4,5,6,7,8]\n",
    "race_ELA"
   ]
  },
  {
   "cell_type": "code",
   "execution_count": null,
   "metadata": {
    "_kg_hide-input": true,
    "_uuid": "9ffcad076beafcebd317b46f1f17144fcae44f89",
    "collapsed": true
   },
   "outputs": [],
   "source": [
    "# Create a trace\n",
    "trace = go.Scatter(\n",
    "    x = race_ELA['Grade'],\n",
    "    y = race_ELA['Asian ELA'],\n",
    "    name = 'Asian Students'\n",
    ")\n",
    "\n",
    "trace2 = go.Scatter(\n",
    "    x = race_ELA['Grade'],\n",
    "    y = race_ELA['Hispanic ELA'],\n",
    "    name = 'Hispanic Students'\n",
    ")\n",
    "\n",
    "trace3 = go.Scatter(\n",
    "    x = race_ELA['Grade'],\n",
    "    y = race_ELA['Black ELA'],\n",
    "    name = 'Black Students'\n",
    ")\n",
    "\n",
    "trace4 = go.Scatter(\n",
    "    x = race_ELA['Grade'],\n",
    "    y = race_ELA['White ELA'],\n",
    "    name = 'White Students'\n",
    ")\n",
    "\n",
    "layout= go.Layout(\n",
    "    title= 'Student ELA 4s Performance By Grade (Race)',\n",
    "    xaxis= dict(\n",
    "        title= 'Grade Level'\n",
    "    ),\n",
    "    yaxis=dict(\n",
    "        title='# of Students Receiving ELA 4s'\n",
    "    )\n",
    ")\n",
    "\n",
    "data = [trace, trace2, trace3, trace4]\n",
    "\n",
    "fig = go.Figure(data=data, layout=layout)\n",
    "iplot(fig, filename='scatter_hover_labels')"
   ]
  },
  {
   "cell_type": "markdown",
   "metadata": {
    "_uuid": "91364500a39637b3d6209f6eafa061f01158f6f6"
   },
   "source": [
    "<img src='https://cdn.dribbble.com/users/329319/screenshots/2058795/chrysler_01.gif'/>\n",
    "<a id='community_vs_noncommunity'></a>\n",
    "# Community VS Non-Community School Income\n",
    "***"
   ]
  },
  {
   "cell_type": "markdown",
   "metadata": {
    "_uuid": "94ab85ddc90293a77da4400f4cfeb9802cc8f431"
   },
   "source": [
    "**Community Schools:**\n",
    "- Has higher economic need index\n",
    "- Average School Income = **$38k**\n",
    "- Average % Black/Hispanic = **93%**\n",
    "\n",
    "**Not Community Schools:**\n",
    "- Has lower economic need index\n",
    "- Average School Income = **$47k**\n",
    "- Average % Black/Hispanic = **70%**"
   ]
  },
  {
   "cell_type": "code",
   "execution_count": null,
   "metadata": {
    "_uuid": "d67b497c55af6055eb2056377545ce66a1a20516",
    "collapsed": true,
    "scrolled": true
   },
   "outputs": [],
   "source": [
    "# Overview of summary (Turnover V.S. Non-turnover)\n",
    "turnover_Summary = df.groupby('Community School?')\n",
    "turnover_Summary[['Economic Need Index', 'School Income Estimate', 'Percent Asian','Percent Black', 'Percent Hispanic', \n",
    "                  'Percent White', 'Average ELA Proficiency', 'Average Math Proficiency']].mean()"
   ]
  },
  {
   "cell_type": "markdown",
   "metadata": {
    "_uuid": "e857a67446910d1984ee11f1cd34d2a5fdabd82f"
   },
   "source": [
    "# School Income VS Economic Need Index\n",
    "***\n",
    "\n",
    "There is definitely a negative correlation between School Income and their Economic Need Index. It makes sense:\n",
    "- The less income you make the higher economic need index you'll get.\n",
    "- The more income you make the less economic need index you'll get."
   ]
  },
  {
   "cell_type": "code",
   "execution_count": null,
   "metadata": {
    "_kg_hide-input": true,
    "_uuid": "95b6c185ba53187fbb5badbf7e5b47083a658ee0",
    "collapsed": true,
    "scrolled": true
   },
   "outputs": [],
   "source": [
    "# Let's normalize the School Income Estimate to have better visualization\n",
    "from sklearn import preprocessing\n",
    "\n",
    "# Impute the missing Income with the median\n",
    "median = df['School Income Estimate'].median()\n",
    "df['School Income Estimate'] = df['School Income Estimate'].fillna(median)\n",
    "\n",
    "# Create x, where x the 'scores' column's values as floats\n",
    "x = df[['School Income Estimate']].values.astype(float)\n",
    "\n",
    "# Create a minimum and maximum processor object\n",
    "min_max_scaler = preprocessing.MinMaxScaler()\n",
    "\n",
    "# Create an object to transform the data to fit minmax processor\n",
    "x_scaled = min_max_scaler.fit_transform(x)\n",
    "\n",
    "# Run the normalizer on the dataframe\n",
    "school_income_normalized = pd.DataFrame(x_scaled)\n",
    "\n",
    "df['school_income_normalized'] = school_income_normalized"
   ]
  },
  {
   "cell_type": "code",
   "execution_count": null,
   "metadata": {
    "_uuid": "c7edaf965f3529a77591b0ce4f886078a718af01",
    "collapsed": true,
    "scrolled": true
   },
   "outputs": [],
   "source": [
    "sns.lmplot(x='school_income_normalized', y='Economic Need Index', data=df,\n",
    "           fit_reg=False) # No regression line\n",
    "        "
   ]
  },
  {
   "cell_type": "markdown",
   "metadata": {
    "_uuid": "95c38f39ca55bebaa64420674fee127a7b778249"
   },
   "source": [
    "<a id='avg_school_income_comparison'></a>\n",
    "# Average School Income Comparison\n",
    "***"
   ]
  },
  {
   "cell_type": "markdown",
   "metadata": {
    "_uuid": "bca56f19bd41a5cc6931bc81ccce72f18ca0e8fe"
   },
   "source": [
    "**Interesting Find:** Looks like the breaking point for school income of **Community Schools** are at around **$50k**\n",
    "\n",
    "**Interesting Find:** **Non Community Schools** receive an income up to **over $175k**!\n"
   ]
  },
  {
   "cell_type": "code",
   "execution_count": null,
   "metadata": {
    "_kg_hide-input": true,
    "_uuid": "e332dae4f8659a6a5ddf5f8bd512fd48eb085a80",
    "collapsed": true
   },
   "outputs": [],
   "source": [
    "#KDEPlot: Kernel Density Estimate Plot\n",
    "fig = plt.figure(figsize=(15,4))\n",
    "ax=sns.kdeplot(df.loc[(df['Community School?'] == 'Yes'),'School Income Estimate'] , color='b',shade=True, label='Community School')\n",
    "ax=sns.kdeplot(df.loc[(df['Community School?'] == 'No'),'School Income Estimate'] , color='r',shade=True, label='Not Community School')\n",
    "plt.title('Community School VS Not Community School Income')"
   ]
  },
  {
   "cell_type": "markdown",
   "metadata": {
    "_uuid": "80d20a390236de8612a505c68d7a969c5430eb2c"
   },
   "source": [
    "<a id='economic_need'></a>\n",
    "# Economic Need Index Distribution\n",
    "***\n",
    "\n",
    "**Interesting Find:**\n",
    "\n",
    "**Community Schools** definitely need more help and a majority of them are within the **Economic Need Index** of **90%**.\n",
    "\n",
    "**Non Community Schools** have a wide distribution of their Economic Need Index scores, having a majority at the **80%** score."
   ]
  },
  {
   "cell_type": "code",
   "execution_count": null,
   "metadata": {
    "_kg_hide-input": true,
    "_uuid": "fb415f343b9d261fa4febc6413670969f2b89a87",
    "collapsed": true
   },
   "outputs": [],
   "source": [
    "#KDEPlot: Kernel Density Estimate Plot\n",
    "fig = plt.figure(figsize=(15,4))\n",
    "ax=sns.kdeplot(df.loc[(df['Community School?'] == 'Yes'),'Economic Need Index'] , color='b',shade=True, label='Community School')\n",
    "ax=sns.kdeplot(df.loc[(df['Community School?'] == 'No'),'Economic Need Index'] , color='r',shade=True, label='Not Community School')\n",
    "plt.xlabel('Economic Need Index Score')\n",
    "plt.ylabel('Kernel Density Frequency')\n",
    "plt.title('Community School VS Not Community School Economic Need Index')"
   ]
  },
  {
   "cell_type": "markdown",
   "metadata": {
    "_uuid": "6e49f831332ea04443e94011db5245aec27bc184"
   },
   "source": [
    "<img src = 'https://cdn.dribbble.com/users/736061/screenshots/3203751/shot_01_boy_1.gif'/>"
   ]
  },
  {
   "cell_type": "markdown",
   "metadata": {
    "_uuid": "3110a4d5817a2f22298e24ada7ad9f61796ecffa"
   },
   "source": [
    "<a id='school_per_city'></a>\n",
    "# Number of Schools Per City\n",
    "***\n",
    "\n",
    "The **Top 3 Cities** with the most schools are:\n",
    "1. **Brooklyn**: 411\n",
    "2. **Bronx**: 297\n",
    "3. **New York **: 232"
   ]
  },
  {
   "cell_type": "code",
   "execution_count": null,
   "metadata": {
    "_kg_hide-input": true,
    "_uuid": "cf56422cc41ba303b15b0a34d22e8f9f471ba596",
    "collapsed": true
   },
   "outputs": [],
   "source": [
    "city = df.groupby('City')['Zip'].count().reset_index().sort_values('Zip', ascending=False).reset_index(drop=True)\n",
    "city_community = df[df['Community School?'] == 'Yes'].groupby('City')['Zip'].count().reset_index().sort_values('Zip', ascending=False).reset_index(drop=True)\n",
    "\n",
    "city_merge = pd.merge(city, city_community, how='left', on='City')\n",
    "city_merge.fillna(0, inplace=True)\n",
    "city_merge['Zip_y'] = city_merge['Zip_y'].astype(int)\n",
    "\n",
    "top_10_city = city_merge.iloc[:10,]\n",
    "top_10_city = top_10_city.rename(columns={\"Zip_x\":'Total Count', \"Zip_y\":'Community Count'})\n",
    "top_10_city"
   ]
  },
  {
   "cell_type": "markdown",
   "metadata": {
    "_uuid": "b6b9309f86bb457a124e62859f4361354c3b9999"
   },
   "source": [
    "### Top 10 Schools Per City Distribution"
   ]
  },
  {
   "cell_type": "code",
   "execution_count": null,
   "metadata": {
    "_kg_hide-input": true,
    "_uuid": "168da658b877f32914724bb5d92233b382c61493",
    "collapsed": true
   },
   "outputs": [],
   "source": [
    "sns.set(style=\"whitegrid\")\n",
    "\n",
    "# Initialize the matplotlib figure\n",
    "f, ax = plt.subplots(figsize=(13, 7))\n",
    "\n",
    "# Plot the total schools per city\n",
    "sns.set_color_codes(\"pastel\")\n",
    "sns.barplot(x=\"Total Count\", y='City', data=top_10_city,\n",
    "            label=\"Total\", color=\"b\")\n",
    "\n",
    "# Plot the total community schools per city\n",
    "sns.set_color_codes(\"muted\")\n",
    "sns.barplot(x=\"Community Count\", y=\"City\", data=top_10_city,\n",
    "            label=\"Community School\", color=\"b\")\n",
    "\n",
    "# Add a legend and informative axis label\n",
    "ax.legend(ncol=2, loc=\"lower right\", frameon=True)\n",
    "ax.set(xlim=(0, 411), ylabel=\"City Name\", title='Number of Schools Per City',\n",
    "       xlabel=\"# of Schools\")\n",
    "sns.despine(left=True, bottom=True)"
   ]
  },
  {
   "cell_type": "markdown",
   "metadata": {
    "_uuid": "978d819f1d8340bd5fddbee233bcd6aa851151ea"
   },
   "source": [
    "## Top 10 Cities and School Income "
   ]
  },
  {
   "cell_type": "code",
   "execution_count": null,
   "metadata": {
    "_kg_hide-input": true,
    "_uuid": "8b49521ceef45f7363a6a7abe91e37420f20212b",
    "collapsed": true
   },
   "outputs": [],
   "source": [
    "top10_city_list = list(top_10_city.City)\n",
    "\n",
    "temp=df[df.City.isin(top10_city_list)]\n",
    "plt.figure(figsize=(10,8))\n",
    "sns.boxplot( x='School Income Estimate', y='City',data=temp)\n",
    "plt.title(\"School Income For The Top 10 Schools\", fontsize=16)\n",
    "plt.xlabel(\"School Income Estimate\", fontsize=16)\n",
    "plt.ylabel(\"School Name\", fontsize=16)\n",
    "plt.show();"
   ]
  },
  {
   "cell_type": "markdown",
   "metadata": {
    "_uuid": "7a068a5aade5f927c75d39c60426a240c0f420aa"
   },
   "source": [
    "# SHSAT Registration Content\n",
    "***"
   ]
  },
  {
   "cell_type": "code",
   "execution_count": null,
   "metadata": {
    "_uuid": "3c9b957f3cf35ad352c0ce336e0c5cea0864ccaf",
    "collapsed": true,
    "scrolled": true
   },
   "outputs": [],
   "source": [
    "shsat.head(3)"
   ]
  },
  {
   "cell_type": "markdown",
   "metadata": {
    "_uuid": "3ec2bbd431592cc488c94271fae034a1ded66b9c"
   },
   "source": [
    "# Total SHSAT Registration Count Per School (2013-2016)\n",
    "***\n",
    "\n",
    "**Interesting Find:**\n",
    "- The most registration for the SHSAT occurred in **2014** with a count of **838** registrations.\n",
    "- The top 3 schools that registered for the SHSAT were from **KIPP, Columbia Secondary School, and Democracy Prep**."
   ]
  },
  {
   "cell_type": "markdown",
   "metadata": {
    "_uuid": "895184f353306091d3131b89135314c8e874ccc2"
   },
   "source": [
    "<a id='registration_per_year'></a>\n",
    "### Total Registrations Per Year\n",
    "\n",
    "Year **2014** has the highest amount of registrations at **838**, but then it falls off in the following years."
   ]
  },
  {
   "cell_type": "code",
   "execution_count": null,
   "metadata": {
    "_kg_hide-input": true,
    "_uuid": "def3fdc1481388300178baf7875ea6e9405a2caa",
    "collapsed": true
   },
   "outputs": [],
   "source": [
    "registration_per_year = pd.DataFrame(shsat.groupby('Year of SHST')['Number of students who registered for the SHSAT'].sum()).reset_index()\n",
    "registration_per_year"
   ]
  },
  {
   "cell_type": "code",
   "execution_count": null,
   "metadata": {
    "_kg_hide-input": true,
    "_kg_hide-output": true,
    "_uuid": "8268a39f75611005be294ca7eb6fcada727019fe",
    "collapsed": true,
    "scrolled": false
   },
   "outputs": [],
   "source": [
    "# Testing...\n",
    "shsat_schools = list(shsat['DBN'].unique())\n",
    "shsat_schools_list = '|'.join(shsat_schools)\n",
    "\n",
    "df['Registered SHSAT'] = df['Location Code'].str.contains(shsat_schools_list)\n",
    "\n",
    "registered_SHSAT_schools = df[df['Registered SHSAT'] == True]\n",
    "registered_SHSAT_schools.groupby('School Name').mean()\n",
    "\n",
    "registered_SHSAT_schools.plot(kind=\"scatter\", x=\"Longitude\", y=\"Latitude\",\n",
    "    s=absent_11['Economic Need Index']*100, c=\"School Income Estimate\", cmap=plt.get_cmap(\"jet\"),label='Schools', title='Schools with 10% Absent Rate',\n",
    "    colorbar=True, alpha=0.3, figsize=(15,7))"
   ]
  },
  {
   "cell_type": "code",
   "execution_count": null,
   "metadata": {
    "_kg_hide-input": true,
    "_uuid": "9aa063d42ea190e4d04c3b7f3c02dd5fed582880",
    "collapsed": true
   },
   "outputs": [],
   "source": [
    "plt.figure(figsize=(10,6))\n",
    "sns.barplot(y=registration_per_year['Number of students who registered for the SHSAT'], x=registration_per_year['Year of SHST'], alpha=0.6)\n",
    "plt.title(\"Number of SHSAT Registrations Per Year\", fontsize=16)\n",
    "plt.xlabel(\"Year\", fontsize=16)\n",
    "plt.ylabel(\"# of SHSAT Registration\", fontsize=16)\n",
    "plt.show()"
   ]
  },
  {
   "cell_type": "markdown",
   "metadata": {
    "_uuid": "326445ea9a03c556bb33dc997d890dfae85876fc"
   },
   "source": [
    "<a id='registration_count'></a>\n",
    "# Registration Count Per School Distribution\n",
    "***\n",
    "\n",
    "### Top 10 Schools With The Most Registrations "
   ]
  },
  {
   "cell_type": "code",
   "execution_count": null,
   "metadata": {
    "_kg_hide-input": true,
    "_uuid": "a3ea0f74b78c502f906c14cee361382695f6ffc3",
    "collapsed": true
   },
   "outputs": [],
   "source": [
    "# Create a dataframe of # of students who took the SHSAT\n",
    "school_take = shsat.groupby('School name')['Number of students who took the SHSAT'].sum().reset_index().sort_values('Number of students who took the SHSAT', ascending=False).reset_index(drop=True)\n",
    "\n",
    "# Create a dataframe of SHSAT Registration Count\n",
    "school_registrations = shsat.groupby('School name')['Number of students who registered for the SHSAT'].sum().reset_index().sort_values('Number of students who registered for the SHSAT', ascending=False).reset_index(drop=True)\n",
    "\n",
    "# Merge the DataFrames\n",
    "registration_merge = pd.merge(school_registrations, school_take, how='left', on='School name')\n",
    "registration_merge.head(10)"
   ]
  },
  {
   "cell_type": "markdown",
   "metadata": {
    "_uuid": "c8a6c32158ebcdabbcceceecd33337a87f722fb3"
   },
   "source": [
    "# SHSAT Registration Distribution Per School\n",
    "***\n",
    "\n",
    "Below is the distribution of SHSAT Registrations and the amount of students who actually took it.\n",
    "\n",
    "It's really interesting to see the actual amount of students who took the test and registered. \n",
    "\n",
    "**Why is it that some schools have a higher Take-to-Register rate?**"
   ]
  },
  {
   "cell_type": "code",
   "execution_count": null,
   "metadata": {
    "_kg_hide-input": true,
    "_uuid": "5ef7b582848aa8aee2e869c4672b328ebb70e14d",
    "collapsed": true
   },
   "outputs": [],
   "source": [
    "sns.set(style=\"whitegrid\")\n",
    "\n",
    "# Initialize the matplotlib figure\n",
    "f, ax = plt.subplots(figsize=(15, 10))\n",
    "\n",
    "# Plot the total schools per city\n",
    "sns.set_color_codes(\"pastel\")\n",
    "sns.barplot(x=\"Number of students who registered for the SHSAT\", y='School name', data=registration_merge,\n",
    "            label=\"# of SHSAT Registrations\", color=\"g\")\n",
    "\n",
    "# Plot the total community schools per city\n",
    "sns.set_color_codes(\"muted\")\n",
    "sns.barplot(x=\"Number of students who took the SHSAT\", y=\"School name\", data=registration_merge,\n",
    "            label=\"# of Students who Took SHSAT\", color=\"g\")\n",
    "\n",
    "# Add a legend and informative axis label\n",
    "ax.legend(ncol=2, loc=\"lower right\", frameon=True)\n",
    "ax.set(xlim=(0, 300), ylabel=\"School Name\", title='SHSAT School Registration Distribution',\n",
    "       xlabel=\"# of Registrations\")\n",
    "sns.despine(left=True, bottom=True)"
   ]
  },
  {
   "cell_type": "markdown",
   "metadata": {
    "_uuid": "4ca2cfe33f5df21d8c9a5fc6358294105de05246"
   },
   "source": [
    "<a id='clustering'></a>\n",
    "# K-Means Clustering: School Economic Need and Income Estimate\n",
    "***\n",
    "Let's see if there is any sort of cluster of schools:\n",
    "\n",
    "- **Critical Help (Red)**: Schools in red have a high economic need with an **Estimate Income < 50,000**\n",
    "- **Moderate Help (Green)**: Schools in green have a low-moderate economic need with an **Estimate Income < 50,000-75,000**\n",
    "- **Low Help (Blue)**: Schools in blue have a low economic need with an **Estimate Income > 75,000**\n"
   ]
  },
  {
   "cell_type": "markdown",
   "metadata": {
    "_uuid": "d32f9f01c2d184671cc4352b0abd33ad08a59e5d"
   },
   "source": [
    "### Elbow Plot: Three Cluster seems to be the magic number"
   ]
  },
  {
   "cell_type": "code",
   "execution_count": null,
   "metadata": {
    "_kg_hide-input": true,
    "_uuid": "46e5c7dafca5f163ea2fc32a752bb0a9c742a965",
    "collapsed": true
   },
   "outputs": [],
   "source": [
    "import pandas as pd\n",
    "from sklearn.cluster import KMeans\n",
    "import matplotlib.pyplot as plt\n",
    "\n",
    "df_zero = df[df['Economic Need Index'] != 0]\n",
    "df_zero2 = df_zero[df_zero['School Income Estimate'] != 0]\n",
    "\n",
    "data = df_zero2[['Economic Need Index', 'School Income Estimate']]\n",
    "\n",
    "sse = {}\n",
    "for k in range(1, 10):\n",
    "    kmeans = KMeans(n_clusters=k, max_iter=1000).fit(data)\n",
    "    data[\"clusters\"] = kmeans.labels_\n",
    "    #print(data[\"clusters\"])\n",
    "    sse[k] = kmeans.inertia_ # Inertia: Sum of distances of samples to their closest cluster center\n",
    "plt.figure()\n",
    "plt.plot(list(sse.keys()), list(sse.values()))\n",
    "plt.xlabel(\"Number of cluster\")\n",
    "plt.ylabel(\"SSE\")\n",
    "plt.show()"
   ]
  },
  {
   "cell_type": "markdown",
   "metadata": {
    "_uuid": "5a355a43a4d510cff64ae0f9c749197dd3b39610"
   },
   "source": [
    "### K-Means Clustering"
   ]
  },
  {
   "cell_type": "code",
   "execution_count": null,
   "metadata": {
    "_kg_hide-input": true,
    "_uuid": "04b669b8bfa6a1961aa5651add47467557dccd65",
    "collapsed": true
   },
   "outputs": [],
   "source": [
    "# Import KMeans Model\n",
    "from sklearn.cluster import KMeans\n",
    "\n",
    "# Graph and create 3 clusters of Employee Turnover\n",
    "kmeans = KMeans(n_clusters=3,random_state=2)\n",
    "kmeans.fit(df_zero2[[\"Economic Need Index\",\"School Income Estimate\"]])\n",
    "\n",
    "kmeans_colors = ['green' if c == 0 else 'red' if c == 2 else 'yellow' if c == 3 else 'blue' for c in kmeans.labels_]\n",
    "\n",
    "fig = plt.figure(figsize=(10, 6))\n",
    "plt.scatter(x=\"Economic Need Index\",y=\"School Income Estimate\", data=df_zero2,\n",
    "            alpha=0.25,color = kmeans_colors)\n",
    "plt.xlabel(\"Economic Need Index\")\n",
    "plt.ylabel(\"School Income Estimate\")\n",
    "plt.scatter(x=kmeans.cluster_centers_[:,0],y=kmeans.cluster_centers_[:,1],color=\"black\",marker=\"X\",s=100)\n",
    "plt.title(\"Clusters of School Economic Need & Income Estimate\")\n",
    "plt.show()"
   ]
  },
  {
   "cell_type": "markdown",
   "metadata": {
    "_uuid": "91ad2bea70640d086559af2d3aeb6867e5fbcd1a"
   },
   "source": [
    "# Final Note\n",
    "***\n",
    "\n",
    "Here are some key takeaways:\n",
    "\n",
    "### Geography\n",
    "- **Central and Upper** New York have schools that are mostly in need of help\n",
    "- **Central and Upper** New York contains most of the **underperforming students**\n",
    "\n",
    "### Race\n",
    "- Majority of **Blacks** attend schools in the **Central** part of New York\n",
    "- Majority of **Hispanics** attend schools in the **Upper** part of New York\n",
    "- Schools with **30% or more** Absent Rate have an average of **95% Black/Hispanic Dominated Schools**\n",
    "- On average, **Black/Hispanic** have a lower **ELA & Math** Performance Scores than **White/Asian**\n",
    "- Overall, **Asians** received the most **4s** in **ELA and Math Performance**.\n",
    "\n",
    "### Conclusion\n",
    "To keep it short:\n",
    "- **Services** are needed for mostly the **Hispanic/Black** student population \n",
    "- Which are **located** mostly in **Central and Upper** Parts of New York. "
   ]
  },
  {
   "cell_type": "markdown",
   "metadata": {
    "_uuid": "a0bf3e8ace5713c4a058eabec43d3a679c3f3ef8"
   },
   "source": [
    "# The Action Plan\n",
    "***\n",
    "\n",
    "There's still a lot to explore, but **if you have any suggestions on how we can tackle this problem and pinpoint what schools/students** would have the most impact from extra support please leave a comment below or message me!\n",
    "\n",
    "This is the begginning of the EDA phase!\n"
   ]
  },
  {
   "cell_type": "markdown",
   "metadata": {
    "_uuid": "59619c82b23e7378cbeb21fbc91c879ccb113fd8"
   },
   "source": [
    "# Work Still In Progress\n",
    "This notebook will always be a work in progress. If this helped you in anyway, I'd love to see just **one upvote :)**. Please **leave any comments** about further improvements to the notebook! Any feedback or constructive criticism is greatly appreciated. Thank you guys!"
   ]
  },
  {
   "cell_type": "markdown",
   "metadata": {
    "_uuid": "61b9fe5d28229350f3736a84122f4c20d96c460f"
   },
   "source": [
    "<a id='additional_sat'></a>\n",
    "# Addtional Data: New York City SAT Results (2012)\n",
    "***"
   ]
  },
  {
   "cell_type": "code",
   "execution_count": null,
   "metadata": {
    "_uuid": "74d4031ba5a224bc0f81a5df7a34c8217e497527",
    "collapsed": true
   },
   "outputs": [],
   "source": [
    "sat = pd.read_csv('../input/new-york-city-sat-results/2012-sat-results.csv')\n",
    "sat = sat.rename(columns={\"DBN\":\"Location Code\"})\n",
    "\n",
    "sat_merge = pd.merge(df, sat, on='Location Code', how='left')\n",
    "sat_merge[sat_merge['SCHOOL NAME'].isnull() == False].shape"
   ]
  },
  {
   "cell_type": "code",
   "execution_count": null,
   "metadata": {
    "_uuid": "3aca02897e42af71432afcede124b80922e69adb",
    "collapsed": true
   },
   "outputs": [],
   "source": [
    "sat_merge2 = sat_merge[sat_merge['SCHOOL NAME'].isnull() == False]\n",
    "sat_merge2['SAT Math Avg. Score'] = sat_merge2['SAT Math Avg. Score'].replace(\"s\",\"0\")\n",
    "sat_merge2['SAT Critical Reading Avg. Score'] = sat_merge2['SAT Critical Reading Avg. Score'].replace(\"s\",\"0\")\n",
    "sat_merge2['SAT Writing Avg. Score'] = sat_merge2['SAT Writing Avg. Score'].replace(\"s\",\"0\")"
   ]
  },
  {
   "cell_type": "code",
   "execution_count": null,
   "metadata": {
    "_uuid": "17ca92c9ac55f4caab7bb4c1b33fad334ab0235d",
    "collapsed": true
   },
   "outputs": [],
   "source": [
    "sat_merge2['SAT Critical Reading Avg. Score'] = pd.to_numeric(sat_merge2['SAT Critical Reading Avg. Score'])\n",
    "sat_merge2['SAT Writing Avg. Score'] = pd.to_numeric(sat_merge2['SAT Writing Avg. Score'])\n",
    "sat_merge2['SAT Math Avg. Score'] = pd.to_numeric(sat_merge2['SAT Math Avg. Score'])\n",
    "sat_merge2.head(1)"
   ]
  },
  {
   "cell_type": "code",
   "execution_count": null,
   "metadata": {
    "_uuid": "bd6288a4639e53eca2516fa892aa2c03bbcc903c",
    "collapsed": true
   },
   "outputs": [],
   "source": [
    "# Set up the matplotlib figure\n",
    "f, axes = plt.subplots(ncols=2, figsize=(15, 6))\n",
    "\n",
    "sat_merge2.plot(kind=\"scatter\", x=\"Average Math Proficiency\", y=\"SAT Math Avg. Score\", ax=axes[0],\n",
    "    s=sat_merge2['Economic Need Index']*100, c=\"School Income Estimate\", cmap=plt.get_cmap(\"jet\"),label='Schools', title='Math SAT Scores VS Math Proficiency Score',\n",
    "    colorbar=True, alpha=0.3, figsize=(15,7))\n",
    "\n",
    "sat_merge2.plot(kind=\"scatter\", x=\"SAT Critical Reading Avg. Score\", y=\"SAT Writing Avg. Score\", ax=axes[1],\n",
    "    s=sat_merge2['Economic Need Index']*100, c=\"School Income Estimate\", cmap=plt.get_cmap(\"jet\"),label='Schools', title='SAT Writing VS Reading Scores',\n",
    "    colorbar=True, alpha=0.3, figsize=(15,7))"
   ]
  },
  {
   "cell_type": "markdown",
   "metadata": {
    "_uuid": "b8fb64e7cbac6281e6c4affd635f5ad23e581e34"
   },
   "source": [
    "<a id='additional_income'></a>\n",
    "# Additional Data: NYC Income Census Population\n",
    "***\n",
    "\n",
    "Let's do some quick analysis on NYC Income Data so we can get a general overview about the population:"
   ]
  },
  {
   "cell_type": "code",
   "execution_count": null,
   "metadata": {
    "_uuid": "fc9bdaef9a1c917745ef24e471627fe0697c7935",
    "collapsed": true,
    "scrolled": true
   },
   "outputs": [],
   "source": [
    "pop = pd.read_csv('../input/nys-nyserda-low-to-moderate-income-census-populat/nyserda-low-to-moderate-income-new-york-state-census-population-analysis-dataset-average-for-2013-2015.csv')\n",
    "nyc_pop = pop[pop['County / County Group']=='New York']"
   ]
  },
  {
   "cell_type": "code",
   "execution_count": null,
   "metadata": {
    "_kg_hide-input": true,
    "_uuid": "989e0ea2f66b4acf9f41185a25dfa338ce2961b0",
    "collapsed": true
   },
   "outputs": [],
   "source": [
    "nyc_income = pd.DataFrame(nyc_pop['Income Groups'].value_counts()).reset_index()\n",
    "nyc_income"
   ]
  },
  {
   "cell_type": "code",
   "execution_count": null,
   "metadata": {
    "_kg_hide-input": true,
    "_uuid": "9869a22b7d2797e98f62b49ffad6f6d46d3072ef",
    "collapsed": true,
    "scrolled": false
   },
   "outputs": [],
   "source": [
    "nyc_pop['Percent of Poverty Level']\n",
    "plt.figure(figsize=(10,6))\n",
    "sns.barplot(y=nyc_income['Income Groups'], x=nyc_income['index'], alpha=0.6)\n",
    "plt.title(\"Income Groups of NYC\", fontsize=16)\n",
    "plt.xlabel(\"Income Groups Level\", fontsize=16)\n",
    "plt.ylabel(\"Count\", fontsize=16)\n",
    "plt.xticks(rotation=90)\n",
    "plt.show()"
   ]
  },
  {
   "cell_type": "code",
   "execution_count": null,
   "metadata": {
    "_uuid": "37eb6e6ffa36c80b716ecca2305bd66a346274bf",
    "collapsed": true,
    "scrolled": true
   },
   "outputs": [],
   "source": [
    "race_income = pd.DataFrame(nyc_pop.groupby(['Race / Ethnicity', 'Income Groups'])['Income Groups'].count())\n",
    "race_income"
   ]
  },
  {
   "cell_type": "markdown",
   "metadata": {
    "_uuid": "9b8e2a4cab630199c5f24d1d458b09911ab07a09"
   },
   "source": [
    "<img src='https://cdn.dribbble.com/users/759099/screenshots/3584436/linked_in2.gif'/>"
   ]
  },
  {
   "cell_type": "markdown",
   "metadata": {
    "_uuid": "cdcdbaacc4f66e9cf90c020db4d6965e3b7bb61a"
   },
   "source": [
    "\n",
    "## Let's Connect!\n",
    "\n",
    "If anybody would like to discuss any other projects or just have a chat about data science topics, I'll be more than happy to connect with you on:\n",
    "\n",
    "**LinkedIn**: https://www.linkedin.com/in/randylaosat/\n",
    "\n",
    "**My Website**: http://claoudml.co\n"
   ]
  },
  {
   "cell_type": "code",
   "execution_count": null,
   "metadata": {
    "_uuid": "faf1663acfbbad20edb078a1dd86a3ae1b555c94",
    "collapsed": true
   },
   "outputs": [],
   "source": []
  }
 ],
 "metadata": {
  "kernelspec": {
   "display_name": "Python 3",
   "language": "python",
   "name": "python3"
  },
  "language_info": {
   "codemirror_mode": {
    "name": "ipython",
    "version": 3
   },
   "file_extension": ".py",
   "mimetype": "text/x-python",
   "name": "python",
   "nbconvert_exporter": "python",
   "pygments_lexer": "ipython3",
   "version": "3.6.6"
  }
 },
 "nbformat": 4,
 "nbformat_minor": 1
}
