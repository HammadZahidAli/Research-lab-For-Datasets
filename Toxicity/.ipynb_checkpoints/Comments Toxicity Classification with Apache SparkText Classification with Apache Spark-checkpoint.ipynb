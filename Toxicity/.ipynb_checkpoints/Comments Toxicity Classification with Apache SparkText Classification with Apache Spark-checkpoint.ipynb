{
 "cells": [
  {
   "cell_type": "markdown",
   "metadata": {},
   "source": [
    "> About this Dataset:\n",
    "\n",
    "You are provided with a large number of Wikipedia comments which have been labeled by human raters for toxic behavior. The types of toxicity are:\n",
    "\n",
    "toxic\n",
    "severe_toxic\n",
    "obscene\n",
    "threat\n",
    "insult\n",
    "identity_hate"
   ]
  },
  {
   "cell_type": "code",
   "execution_count": 1,
   "metadata": {},
   "outputs": [],
   "source": [
    "import pandas as pd\n",
    "\n",
    "from pyspark import SparkConf, SparkContext, HiveContext\n",
    "import pyspark.sql.functions as F\n",
    "import pyspark.sql.types as T\n",
    "from pyspark.ml.feature import Tokenizer, HashingTF, IDF\n",
    "from pyspark.ml.classification import LogisticRegression"
   ]
  },
  {
   "cell_type": "code",
   "execution_count": 2,
   "metadata": {},
   "outputs": [],
   "source": [
    "# Build a spark context\n",
    "conf = SparkConf().setAppName(\"NLP Practise\")\n",
    "sc = SparkContext(conf=conf)\n",
    "hc = HiveContext(sc)"
   ]
  },
  {
   "cell_type": "code",
   "execution_count": 3,
   "metadata": {},
   "outputs": [],
   "source": [
    "def to_spark_df(fin):\n",
    "    \"\"\"\n",
    "    Parse a filepath to a spark dataframe using the pandas api.\n",
    "    \n",
    "    Parameters\n",
    "    ----------\n",
    "    fin : str\n",
    "        The path to the file on the local filesystem that contains the csv data.\n",
    "        \n",
    "    Returns\n",
    "    -------\n",
    "    df : pyspark.sql.dataframe.DataFrame\n",
    "        A spark DataFrame containing the parsed csv data.\n",
    "    \"\"\"\n",
    "    df = pd.read_csv(fin)\n",
    "    df.fillna(\"\", inplace=True)\n",
    "    df = hc.createDataFrame(df)\n",
    "    return(df)\n",
    "\n",
    "train = to_spark_df(\"train.csv\")\n",
    "test = to_spark_df(\"test.csv\")"
   ]
  },
  {
   "cell_type": "markdown",
   "metadata": {},
   "source": [
    "> Let View our data"
   ]
  },
  {
   "cell_type": "code",
   "execution_count": 4,
   "metadata": {},
   "outputs": [
    {
     "data": {
      "text/plain": [
       "[Row(id='0000997932d777bf', comment_text=\"Explanation\\nWhy the edits made under my username Hardcore Metallica Fan were reverted? They weren't vandalisms, just closure on some GAs after I voted at New York Dolls FAC. And please don't remove the template from the talk page since I'm retired now.89.205.38.27\", toxic=0, severe_toxic=0, obscene=0, threat=0, insult=0, identity_hate=0),\n",
       " Row(id='000103f0d9cfb60f', comment_text=\"D'aww! He matches this background colour I'm seemingly stuck with. Thanks.  (talk) 21:51, January 11, 2016 (UTC)\", toxic=0, severe_toxic=0, obscene=0, threat=0, insult=0, identity_hate=0),\n",
       " Row(id='000113f07ec002fd', comment_text=\"Hey man, I'm really not trying to edit war. It's just that this guy is constantly removing relevant information and talking to me through edits instead of my talk page. He seems to care more about the formatting than the actual info.\", toxic=0, severe_toxic=0, obscene=0, threat=0, insult=0, identity_hate=0),\n",
       " Row(id='0001b41b1c6bb37e', comment_text='\"\\nMore\\nI can\\'t make any real suggestions on improvement - I wondered if the section statistics should be later on, or a subsection of \"\"types of accidents\"\"  -I think the references may need tidying so that they are all in the exact same format ie date format etc. I can do that later on, if no-one else does first - if you have any preferences for formatting style on references or want to do it yourself please let me know.\\n\\nThere appears to be a backlog on articles for review so I guess there may be a delay until a reviewer turns up. It\\'s listed in the relevant form eg Wikipedia:Good_article_nominations#Transport  \"', toxic=0, severe_toxic=0, obscene=0, threat=0, insult=0, identity_hate=0),\n",
       " Row(id='0001d958c54c6e35', comment_text=\"You, sir, are my hero. Any chance you remember what page that's on?\", toxic=0, severe_toxic=0, obscene=0, threat=0, insult=0, identity_hate=0)]"
      ]
     },
     "execution_count": 4,
     "metadata": {},
     "output_type": "execute_result"
    }
   ],
   "source": [
    "train.take(5)"
   ]
  },
  {
   "cell_type": "markdown",
   "metadata": {},
   "source": [
    "> Cols other than Id, Comment_Text"
   ]
  },
  {
   "cell_type": "code",
   "execution_count": 5,
   "metadata": {},
   "outputs": [
    {
     "name": "stdout",
     "output_type": "stream",
     "text": [
      "['toxic', 'severe_toxic', 'obscene', 'threat', 'insult', 'identity_hate']\n"
     ]
    }
   ],
   "source": [
    "out_cols = [i for i in train.columns if i not in [\"id\", \"comment_text\"]]\n",
    "\n",
    "print(out_cols)"
   ]
  },
  {
   "cell_type": "code",
   "execution_count": 6,
   "metadata": {},
   "outputs": [
    {
     "name": "stdout",
     "output_type": "stream",
     "text": [
      "+----------------+--------------------+-----+------------+-------+------+------+-------------+\n",
      "|              id|        comment_text|toxic|severe_toxic|obscene|threat|insult|identity_hate|\n",
      "+----------------+--------------------+-----+------------+-------+------+------+-------------+\n",
      "|0000997932d777bf|Explanation\n",
      "Why t...|    0|           0|      0|     0|     0|            0|\n",
      "|000103f0d9cfb60f|D'aww! He matches...|    0|           0|      0|     0|     0|            0|\n",
      "|000113f07ec002fd|Hey man, I'm real...|    0|           0|      0|     0|     0|            0|\n",
      "|0001b41b1c6bb37e|\"\n",
      "More\n",
      "I can't ma...|    0|           0|      0|     0|     0|            0|\n",
      "|0001d958c54c6e35|You, sir, are my ...|    0|           0|      0|     0|     0|            0|\n",
      "+----------------+--------------------+-----+------------+-------+------+------+-------------+\n",
      "only showing top 5 rows\n",
      "\n"
     ]
    }
   ],
   "source": [
    "train.show(5)"
   ]
  },
  {
   "cell_type": "markdown",
   "metadata": {},
   "source": [
    "> See some toxic comments below"
   ]
  },
  {
   "cell_type": "code",
   "execution_count": 7,
   "metadata": {
    "scrolled": true
   },
   "outputs": [
    {
     "name": "stdout",
     "output_type": "stream",
     "text": [
      "+----------------+--------------------+-----+------------+-------+------+------+-------------+\n",
      "|              id|        comment_text|toxic|severe_toxic|obscene|threat|insult|identity_hate|\n",
      "+----------------+--------------------+-----+------------+-------+------+------+-------------+\n",
      "|0002bcb3da6cb337|COCKSUCKER BEFORE...|    1|           1|      1|     0|     1|            0|\n",
      "|0005c987bdfc9d4b|Hey... what is it...|    1|           0|      0|     0|     0|            0|\n",
      "|0007e25b2121310b|Bye! \n",
      "\n",
      "Don't look...|    1|           0|      0|     0|     0|            0|\n",
      "|001810bf8c45bf5f|You are gay or an...|    1|           0|      1|     0|     1|            1|\n",
      "|00190820581d90ce|FUCK YOUR FILTHY ...|    1|           0|      1|     0|     1|            0|\n",
      "+----------------+--------------------+-----+------------+-------+------+------+-------------+\n",
      "only showing top 5 rows\n",
      "\n"
     ]
    }
   ],
   "source": [
    "train.filter(F.col('toxic') == 1).show(5)"
   ]
  },
  {
   "cell_type": "markdown",
   "metadata": {},
   "source": [
    "> Tokenization + Counting Words"
   ]
  },
  {
   "cell_type": "code",
   "execution_count": 8,
   "metadata": {},
   "outputs": [],
   "source": [
    "# Basic sentence tokenizer\n",
    "tokenizer = Tokenizer(inputCol=\"comment_text\", outputCol=\"words\")\n",
    "wordsData = tokenizer.transform(train)"
   ]
  },
  {
   "cell_type": "code",
   "execution_count": 9,
   "metadata": {},
   "outputs": [],
   "source": [
    "# Count the words in a document\n",
    "hashingTF = HashingTF(inputCol=\"words\", outputCol=\"rawFeatures\")\n",
    "tf = hashingTF.transform(wordsData)"
   ]
  },
  {
   "cell_type": "markdown",
   "metadata": {},
   "source": [
    "> What is output of raw features?"
   ]
  },
  {
   "cell_type": "code",
   "execution_count": 10,
   "metadata": {},
   "outputs": [
    {
     "data": {
      "text/plain": [
       "[Row(rawFeatures=SparseVector(262144, {19208: 1.0, 23032: 1.0, 24417: 1.0, 25000: 1.0, 29945: 1.0, 32241: 1.0, 32976: 1.0, 37852: 1.0, 46075: 1.0, 59853: 1.0, 72125: 1.0, 77971: 1.0, 81631: 1.0, 82999: 1.0, 83922: 1.0, 91677: 1.0, 97171: 1.0, 100258: 1.0, 101169: 1.0, 103838: 3.0, 110427: 1.0, 113031: 1.0, 113418: 1.0, 135568: 1.0, 139533: 1.0, 140784: 1.0, 145284: 1.0, 151536: 1.0, 164148: 1.0, 169364: 1.0, 176964: 1.0, 182267: 1.0, 192137: 1.0, 193131: 1.0, 229137: 1.0, 230921: 1.0, 231630: 1.0, 244466: 1.0, 246621: 1.0, 249835: 1.0, 253170: 1.0})),\n",
       " Row(rawFeatures=SparseVector(262144, {17429: 1.0, 38728: 1.0, 83815: 1.0, 88337: 1.0, 101527: 1.0, 101833: 1.0, 108541: 1.0, 125765: 1.0, 141219: 1.0, 151980: 1.0, 169364: 1.0, 169800: 1.0, 203235: 1.0, 208090: 1.0, 219140: 1.0, 242101: 1.0, 248135: 1.0, 249180: 1.0}))]"
      ]
     },
     "execution_count": 10,
     "metadata": {},
     "output_type": "execute_result"
    }
   ],
   "source": [
    "tf.select('rawFeatures').take(2)\n"
   ]
  },
  {
   "cell_type": "markdown",
   "metadata": {},
   "source": [
    "> Build the idf model and transform the original token frequencies into their tf-idf counterparts"
   ]
  },
  {
   "cell_type": "code",
   "execution_count": 11,
   "metadata": {},
   "outputs": [],
   "source": [
    "idf = IDF(inputCol=\"rawFeatures\", outputCol=\"features\")\n",
    "idfModel = idf.fit(tf) \n",
    "tfidf = idfModel.transform(tf)"
   ]
  },
  {
   "cell_type": "code",
   "execution_count": 12,
   "metadata": {},
   "outputs": [
    {
     "data": {
      "text/plain": [
       "Row(features=SparseVector(262144, {19208: 2.244, 23032: 5.0123, 24417: 0.7386, 25000: 5.6813, 29945: 3.0517, 32241: 8.3967, 32976: 5.0285, 37852: 1.7539, 46075: 6.9564, 59853: 3.1525, 72125: 2.2744, 77971: 7.6108, 81631: 3.4198, 82999: 7.5735, 83922: 6.4588, 91677: 0.6965, 97171: 2.0163, 100258: 1.1947, 101169: 1.734, 103838: 1.2127, 110427: 2.1173, 113031: 8.9845, 113418: 2.2023, 135568: 3.5864, 139533: 2.5136, 140784: 3.0483, 145284: 7.6628, 151536: 2.2412, 164148: 6.0064, 169364: 2.4772, 176964: 1.7656, 182267: 8.613, 192137: 3.1018, 193131: 5.6703, 229137: 4.5705, 230921: 2.0429, 231630: 8.2914, 244466: 3.351, 246621: 10.0343, 249835: 6.827, 253170: 2.7021}))"
      ]
     },
     "execution_count": 12,
     "metadata": {},
     "output_type": "execute_result"
    }
   ],
   "source": [
    "tfidf.select(\"features\").first()"
   ]
  },
  {
   "cell_type": "markdown",
   "metadata": {},
   "source": [
    "> ### Now we will Build a logistic regression model for the binary toxic column. Use the features column (the tfidf values) as the input vectors, X, and the toxic column as output vector, y."
   ]
  },
  {
   "cell_type": "code",
   "execution_count": 13,
   "metadata": {},
   "outputs": [],
   "source": [
    "REG = 0.1\n",
    "lr = LogisticRegression(featuresCol=\"features\", labelCol='toxic', regParam=REG)"
   ]
  },
  {
   "cell_type": "code",
   "execution_count": 14,
   "metadata": {},
   "outputs": [],
   "source": [
    "lrModel = lr.fit(tfidf)\n",
    "res_train = lrModel.transform(tfidf)"
   ]
  },
  {
   "cell_type": "code",
   "execution_count": 15,
   "metadata": {},
   "outputs": [
    {
     "name": "stdout",
     "output_type": "stream",
     "text": [
      "+----------------+-----+--------------------+----------+\n",
      "|              id|toxic|         probability|prediction|\n",
      "+----------------+-----+--------------------+----------+\n",
      "|0000997932d777bf|    0|[0.97368992684279...|       0.0|\n",
      "|000103f0d9cfb60f|    0|[0.95948139546688...|       0.0|\n",
      "|000113f07ec002fd|    0|[0.93109658205577...|       0.0|\n",
      "|0001b41b1c6bb37e|    0|[0.99586501269490...|       0.0|\n",
      "|0001d958c54c6e35|    0|[0.92273425793839...|       0.0|\n",
      "|00025465d4725e87|    0|[0.94530661692103...|       0.0|\n",
      "|0002bcb3da6cb337|    1|[0.42081613320235...|       1.0|\n",
      "|00031b1e95af7921|    0|[0.94608092753034...|       0.0|\n",
      "|00037261f536c51d|    0|[0.97727100708069...|       0.0|\n",
      "|00040093b2687caa|    0|[0.93572322050051...|       0.0|\n",
      "|0005300084f90edc|    0|[0.99999844562020...|       0.0|\n",
      "|00054a5e18b50dd4|    0|[0.93125063065614...|       0.0|\n",
      "|0005c987bdfc9d4b|    1|[0.18431432385029...|       1.0|\n",
      "|0006f16e4e9f292e|    0|[0.99511852321289...|       0.0|\n",
      "|00070ef96486d6f9|    0|[0.90836820518690...|       0.0|\n",
      "|00078f8ce7eb276d|    0|[0.98992421300107...|       0.0|\n",
      "|0007e25b2121310b|    1|[0.83728824240941...|       0.0|\n",
      "|000897889268bc93|    0|[0.93782486885178...|       0.0|\n",
      "|0009801bd85e5806|    0|[0.95808931669227...|       0.0|\n",
      "|0009eaea3325de8c|    0|[0.98222175278855...|       0.0|\n",
      "+----------------+-----+--------------------+----------+\n",
      "only showing top 20 rows\n",
      "\n"
     ]
    }
   ],
   "source": [
    "res_train.select(\"id\", \"toxic\", \"probability\", \"prediction\").show(20)"
   ]
  },
  {
   "cell_type": "code",
   "execution_count": 16,
   "metadata": {},
   "outputs": [
    {
     "data": {
      "text/plain": [
       "DataFrame[probability: vector]"
      ]
     },
     "execution_count": 16,
     "metadata": {},
     "output_type": "execute_result"
    }
   ],
   "source": [
    "res_train.select(F.col('probability'))"
   ]
  },
  {
   "cell_type": "markdown",
   "metadata": {},
   "source": [
    "> Create a user-defined function (udf) to select the second element in each row of the column vector"
   ]
  },
  {
   "cell_type": "code",
   "execution_count": 17,
   "metadata": {},
   "outputs": [],
   "source": [
    "extract_prob = F.udf(lambda x: float(x[1]), T.FloatType())\n"
   ]
  },
  {
   "cell_type": "code",
   "execution_count": 18,
   "metadata": {},
   "outputs": [
    {
     "name": "stdout",
     "output_type": "stream",
     "text": [
      "+------------+----------+\n",
      "|       proba|prediction|\n",
      "+------------+----------+\n",
      "| 0.026310073|       0.0|\n",
      "| 0.040518604|       0.0|\n",
      "|  0.06890342|       0.0|\n",
      "|0.0041349875|       0.0|\n",
      "|  0.07726574|       0.0|\n",
      "| 0.054693382|       0.0|\n",
      "|   0.5791839|       1.0|\n",
      "| 0.053919073|       0.0|\n",
      "| 0.022728993|       0.0|\n",
      "|  0.06427678|       0.0|\n",
      "|1.5543798E-6|       0.0|\n",
      "|  0.06874937|       0.0|\n",
      "|   0.8156857|       1.0|\n",
      "| 0.004881477|       0.0|\n",
      "|  0.09163179|       0.0|\n",
      "| 0.010075787|       0.0|\n",
      "|  0.16271175|       0.0|\n",
      "| 0.062175132|       0.0|\n",
      "| 0.041910682|       0.0|\n",
      "| 0.017778248|       0.0|\n",
      "+------------+----------+\n",
      "only showing top 20 rows\n",
      "\n"
     ]
    }
   ],
   "source": [
    "(res_train.withColumn(\"proba\", extract_prob(\"probability\"))\n",
    " .select(\"proba\", \"prediction\")\n",
    " .show())"
   ]
  },
  {
   "cell_type": "markdown",
   "metadata": {},
   "source": [
    "> Convert the test text"
   ]
  },
  {
   "cell_type": "code",
   "execution_count": 19,
   "metadata": {},
   "outputs": [],
   "source": [
    "test_tokens = tokenizer.transform(test)\n",
    "test_tf = hashingTF.transform(test_tokens)\n",
    "test_tfidf = idfModel.transform(test_tf)"
   ]
  },
  {
   "cell_type": "code",
   "execution_count": 20,
   "metadata": {},
   "outputs": [
    {
     "data": {
      "text/plain": [
       "Row(id='00001cee341fdb12')"
      ]
     },
     "execution_count": 20,
     "metadata": {},
     "output_type": "execute_result"
    }
   ],
   "source": [
    "# Initialize the new DataFrame with the id column\n",
    "\n",
    "test_res = test.select('id')\n",
    "test_res.head()"
   ]
  },
  {
   "cell_type": "markdown",
   "metadata": {},
   "source": [
    "> Make predictions for each class\n"
   ]
  },
  {
   "cell_type": "code",
   "execution_count": 21,
   "metadata": {},
   "outputs": [
    {
     "name": "stdout",
     "output_type": "stream",
     "text": [
      "toxic\n",
      "...fitting\n",
      "...predicting\n",
      "...appending result\n",
      "...extracting probability\n",
      "+----------------+------------+\n",
      "|              id|       toxic|\n",
      "+----------------+------------+\n",
      "|000968ce11f5ee34|  0.04655437|\n",
      "|00491682330fdd1d|3.6486778E-8|\n",
      "|008eb47c4684d190|   0.6308229|\n",
      "|00d251f47486b6d2|  0.06102414|\n",
      "|0114ae82c53101a9|  0.43038085|\n",
      "|012c7429c5a34290|  0.04933512|\n",
      "|015017ec394a264e|   0.1144765|\n",
      "|01d94c94a86a4327| 0.023757217|\n",
      "|020eb3a1af28453f|  0.38700294|\n",
      "|0216909e11cfeac0| 0.005305645|\n",
      "|026460a698a91698| 0.016622331|\n",
      "|027cc0ae6a33392e|  0.17309393|\n",
      "|02a5d713614fad26| 0.110539496|\n",
      "|02aabe84e138c05f| 0.064438604|\n",
      "|02f2b8d194b06506| 0.084038936|\n",
      "|02f60289932b3234|  0.17759308|\n",
      "|0311a466e20edcb4|0.0075349645|\n",
      "|034ea2a7c86e7e49| 0.018791143|\n",
      "|039acb76708e55a6|  0.08233678|\n",
      "|03c81594154c4651|0.0013409954|\n",
      "+----------------+------------+\n",
      "only showing top 20 rows\n",
      "\n",
      "severe_toxic\n",
      "...fitting\n",
      "...predicting\n",
      "...appending result\n",
      "...extracting probability\n",
      "+----------------+------------+------------+\n",
      "|              id|       toxic|severe_toxic|\n",
      "+----------------+------------+------------+\n",
      "|000968ce11f5ee34|  0.04655437| 0.007900135|\n",
      "|00491682330fdd1d|3.6486778E-8| 9.672807E-7|\n",
      "|008eb47c4684d190|   0.6308229|  0.00130351|\n",
      "|00d251f47486b6d2|  0.06102414| 0.007802302|\n",
      "|0114ae82c53101a9|  0.43038085|  0.07279135|\n",
      "|012c7429c5a34290|  0.04933512| 0.008326263|\n",
      "|015017ec394a264e|   0.1144765| 0.009310584|\n",
      "|01d94c94a86a4327| 0.023757217|0.0023925013|\n",
      "|020eb3a1af28453f|  0.38700294| 0.010306452|\n",
      "|0216909e11cfeac0| 0.005305645|0.0025892048|\n",
      "|026460a698a91698| 0.016622331| 0.004937359|\n",
      "|027cc0ae6a33392e|  0.17309393|0.0038844922|\n",
      "|02a5d713614fad26| 0.110539496| 0.008541184|\n",
      "|02aabe84e138c05f| 0.064438604|0.0075457613|\n",
      "|02f2b8d194b06506| 0.084038936|0.0076278243|\n",
      "|02f60289932b3234|  0.17759308| 0.009263252|\n",
      "|0311a466e20edcb4|0.0075349645|0.0035485448|\n",
      "|034ea2a7c86e7e49| 0.018791143| 0.003793216|\n",
      "|039acb76708e55a6|  0.08233678|0.0071035204|\n",
      "|03c81594154c4651|0.0013409954|0.0010427345|\n",
      "+----------------+------------+------------+\n",
      "only showing top 20 rows\n",
      "\n",
      "obscene\n",
      "...fitting\n",
      "...predicting\n",
      "...appending result\n",
      "...extracting probability\n",
      "+----------------+------------+------------+------------+\n",
      "|              id|       toxic|severe_toxic|     obscene|\n",
      "+----------------+------------+------------+------------+\n",
      "|000968ce11f5ee34|  0.04655437| 0.007900135|  0.03559102|\n",
      "|00491682330fdd1d|3.6486778E-8| 9.672807E-7| 2.616639E-8|\n",
      "|008eb47c4684d190|   0.6308229|  0.00130351|0.0024817144|\n",
      "|00d251f47486b6d2|  0.06102414| 0.007802302|  0.03433142|\n",
      "|0114ae82c53101a9|  0.43038085|  0.07279135|  0.29547474|\n",
      "|012c7429c5a34290|  0.04933512| 0.008326263| 0.028455254|\n",
      "|015017ec394a264e|   0.1144765| 0.009310584| 0.050322015|\n",
      "|01d94c94a86a4327| 0.023757217|0.0023925013| 0.004990644|\n",
      "|020eb3a1af28453f|  0.38700294| 0.010306452|  0.13943726|\n",
      "|0216909e11cfeac0| 0.005305645|0.0025892048|0.0034594818|\n",
      "|026460a698a91698| 0.016622331| 0.004937359| 0.014458777|\n",
      "|027cc0ae6a33392e|  0.17309393|0.0038844922| 0.018384207|\n",
      "|02a5d713614fad26| 0.110539496| 0.008541184| 0.036444116|\n",
      "|02aabe84e138c05f| 0.064438604|0.0075457613|  0.04301872|\n",
      "|02f2b8d194b06506| 0.084038936|0.0076278243|  0.04349625|\n",
      "|02f60289932b3234|  0.17759308| 0.009263252| 0.047357656|\n",
      "|0311a466e20edcb4|0.0075349645|0.0035485448| 0.007392603|\n",
      "|034ea2a7c86e7e49| 0.018791143| 0.003793216| 0.008773911|\n",
      "|039acb76708e55a6|  0.08233678|0.0071035204| 0.035312913|\n",
      "|03c81594154c4651|0.0013409954|0.0010427345|0.0010033656|\n",
      "+----------------+------------+------------+------------+\n",
      "only showing top 20 rows\n",
      "\n",
      "threat\n",
      "...fitting\n",
      "...predicting\n",
      "...appending result\n",
      "...extracting probability\n",
      "+----------------+------------+------------+------------+------------+\n",
      "|              id|       toxic|severe_toxic|     obscene|      threat|\n",
      "+----------------+------------+------------+------------+------------+\n",
      "|000968ce11f5ee34|  0.04655437| 0.007900135|  0.03559102| 0.002523175|\n",
      "|00491682330fdd1d|3.6486778E-8| 9.672807E-7| 2.616639E-8|2.2700187E-4|\n",
      "|008eb47c4684d190|   0.6308229|  0.00130351|0.0024817144| 0.001067896|\n",
      "|00d251f47486b6d2|  0.06102414| 0.007802302|  0.03433142|0.0023257558|\n",
      "|0114ae82c53101a9|  0.43038085|  0.07279135|  0.29547474|0.0042685755|\n",
      "|012c7429c5a34290|  0.04933512| 0.008326263| 0.028455254|0.0024523106|\n",
      "|015017ec394a264e|   0.1144765| 0.009310584| 0.050322015|0.0025410256|\n",
      "|01d94c94a86a4327| 0.023757217|0.0023925013| 0.004990644|0.0014201548|\n",
      "|020eb3a1af28453f|  0.38700294| 0.010306452|  0.13943726|0.0026233331|\n",
      "|0216909e11cfeac0| 0.005305645|0.0025892048|0.0034594818|0.0014278307|\n",
      "|026460a698a91698| 0.016622331| 0.004937359| 0.014458777|0.0019719454|\n",
      "|027cc0ae6a33392e|  0.17309393|0.0038844922| 0.018384207|0.0017711972|\n",
      "|02a5d713614fad26| 0.110539496| 0.008541184| 0.036444116|0.0025444503|\n",
      "|02aabe84e138c05f| 0.064438604|0.0075457613|  0.04301872| 0.002334255|\n",
      "|02f2b8d194b06506| 0.084038936|0.0076278243|  0.04349625|0.0028945277|\n",
      "|02f60289932b3234|  0.17759308| 0.009263252| 0.047357656|0.0025391167|\n",
      "|0311a466e20edcb4|0.0075349645|0.0035485448| 0.007392603|0.0017893235|\n",
      "|034ea2a7c86e7e49| 0.018791143| 0.003793216| 0.008773911|0.0017583382|\n",
      "|039acb76708e55a6|  0.08233678|0.0071035204| 0.035312913|0.0024695506|\n",
      "|03c81594154c4651|0.0013409954|0.0010427345|0.0010033656|0.0011336486|\n",
      "+----------------+------------+------------+------------+------------+\n",
      "only showing top 20 rows\n",
      "\n",
      "insult\n",
      "...fitting\n",
      "...predicting\n",
      "...appending result\n",
      "...extracting probability\n",
      "+----------------+------------+------------+------------+------------+------------+\n",
      "|              id|       toxic|severe_toxic|     obscene|      threat|      insult|\n",
      "+----------------+------------+------------+------------+------------+------------+\n",
      "|000968ce11f5ee34|  0.04655437| 0.007900135|  0.03559102| 0.002523175| 0.029229807|\n",
      "|00491682330fdd1d|3.6486778E-8| 9.672807E-7| 2.616639E-8|2.2700187E-4|1.9096854E-6|\n",
      "|008eb47c4684d190|   0.6308229|  0.00130351|0.0024817144| 0.001067896|0.0153904725|\n",
      "|00d251f47486b6d2|  0.06102414| 0.007802302|  0.03433142|0.0023257558| 0.036742307|\n",
      "|0114ae82c53101a9|  0.43038085|  0.07279135|  0.29547474|0.0042685755|  0.19512838|\n",
      "|012c7429c5a34290|  0.04933512| 0.008326263| 0.028455254|0.0024523106| 0.037624177|\n",
      "|015017ec394a264e|   0.1144765| 0.009310584| 0.050322015|0.0025410256| 0.050655816|\n",
      "|01d94c94a86a4327| 0.023757217|0.0023925013| 0.004990644|0.0014201548|0.0031132218|\n",
      "|020eb3a1af28453f|  0.38700294| 0.010306452|  0.13943726|0.0026233331|    0.150463|\n",
      "|0216909e11cfeac0| 0.005305645|0.0025892048|0.0034594818|0.0014278307|0.0034249176|\n",
      "|026460a698a91698| 0.016622331| 0.004937359| 0.014458777|0.0019719454| 0.012329653|\n",
      "|027cc0ae6a33392e|  0.17309393|0.0038844922| 0.018384207|0.0017711972|  0.03562722|\n",
      "|02a5d713614fad26| 0.110539496| 0.008541184| 0.036444116|0.0025444503|  0.08686633|\n",
      "|02aabe84e138c05f| 0.064438604|0.0075457613|  0.04301872| 0.002334255| 0.029452853|\n",
      "|02f2b8d194b06506| 0.084038936|0.0076278243|  0.04349625|0.0028945277| 0.032611836|\n",
      "|02f60289932b3234|  0.17759308| 0.009263252| 0.047357656|0.0025391167| 0.044033322|\n",
      "|0311a466e20edcb4|0.0075349645|0.0035485448| 0.007392603|0.0017893235|0.0060966103|\n",
      "|034ea2a7c86e7e49| 0.018791143| 0.003793216| 0.008773911|0.0017583382| 0.011082353|\n",
      "|039acb76708e55a6|  0.08233678|0.0071035204| 0.035312913|0.0024695506| 0.036574725|\n",
      "|03c81594154c4651|0.0013409954|0.0010427345|0.0010033656|0.0011336486|0.0016477735|\n",
      "+----------------+------------+------------+------------+------------+------------+\n",
      "only showing top 20 rows\n",
      "\n",
      "identity_hate\n",
      "...fitting\n",
      "...predicting\n",
      "...appending result\n",
      "...extracting probability\n",
      "+----------------+------------+------------+------------+------------+------------+-------------+\n",
      "|              id|       toxic|severe_toxic|     obscene|      threat|      insult|identity_hate|\n",
      "+----------------+------------+------------+------------+------------+------------+-------------+\n",
      "|000968ce11f5ee34|  0.04655437| 0.007900135|  0.03559102| 0.002523175| 0.029229807|  0.006218153|\n",
      "|00491682330fdd1d|3.6486778E-8| 9.672807E-7| 2.616639E-8|2.2700187E-4|1.9096854E-6|  8.143212E-6|\n",
      "|008eb47c4684d190|   0.6308229|  0.00130351|0.0024817144| 0.001067896|0.0153904725| 0.0020708058|\n",
      "|00d251f47486b6d2|  0.06102414| 0.007802302|  0.03433142|0.0023257558| 0.036742307|  0.006709278|\n",
      "|0114ae82c53101a9|  0.43038085|  0.07279135|  0.29547474|0.0042685755|  0.19512838|  0.013183156|\n",
      "|012c7429c5a34290|  0.04933512| 0.008326263| 0.028455254|0.0024523106| 0.037624177| 0.0064290008|\n",
      "|015017ec394a264e|   0.1144765| 0.009310584| 0.050322015|0.0025410256| 0.050655816|  0.007636549|\n",
      "|01d94c94a86a4327| 0.023757217|0.0023925013| 0.004990644|0.0014201548|0.0031132218| 0.0029486308|\n",
      "|020eb3a1af28453f|  0.38700294| 0.010306452|  0.13943726|0.0026233331|    0.150463|  0.007943352|\n",
      "|0216909e11cfeac0| 0.005305645|0.0025892048|0.0034594818|0.0014278307|0.0034249176|  0.005350854|\n",
      "|026460a698a91698| 0.016622331| 0.004937359| 0.014458777|0.0019719454| 0.012329653| 0.0043051527|\n",
      "|027cc0ae6a33392e|  0.17309393|0.0038844922| 0.018384207|0.0017711972|  0.03562722| 0.0041466304|\n",
      "|02a5d713614fad26| 0.110539496| 0.008541184| 0.036444116|0.0025444503|  0.08686633|  0.006780443|\n",
      "|02aabe84e138c05f| 0.064438604|0.0075457613|  0.04301872| 0.002334255| 0.029452853|   0.00607978|\n",
      "|02f2b8d194b06506| 0.084038936|0.0076278243|  0.04349625|0.0028945277| 0.032611836|   0.00619095|\n",
      "|02f60289932b3234|  0.17759308| 0.009263252| 0.047357656|0.0025391167| 0.044033322| 0.0074758027|\n",
      "|0311a466e20edcb4|0.0075349645|0.0035485448| 0.007392603|0.0017893235|0.0060966103|  0.003530374|\n",
      "|034ea2a7c86e7e49| 0.018791143| 0.003793216| 0.008773911|0.0017583382| 0.011082353|  0.003737837|\n",
      "|039acb76708e55a6|  0.08233678|0.0071035204| 0.035312913|0.0024695506| 0.036574725| 0.0059719365|\n",
      "|03c81594154c4651|0.0013409954|0.0010427345|0.0010033656|0.0011336486|0.0016477735| 0.0011677311|\n",
      "+----------------+------------+------------+------------+------------+------------+-------------+\n",
      "only showing top 20 rows\n",
      "\n"
     ]
    }
   ],
   "source": [
    "test_probs = []\n",
    "for col in out_cols:\n",
    "    print(col)\n",
    "    lr = LogisticRegression(featuresCol=\"features\", labelCol=col, regParam=REG)\n",
    "    print(\"...fitting\")\n",
    "    lrModel = lr.fit(tfidf)\n",
    "    print(\"...predicting\")\n",
    "    res = lrModel.transform(test_tfidf)\n",
    "    print(\"...appending result\")\n",
    "    test_res = test_res.join(res.select('id', 'probability'), on=\"id\")\n",
    "    print(\"...extracting probability\")\n",
    "    test_res = test_res.withColumn(col, extract_prob('probability')).drop(\"probability\")\n",
    "    test_res.show()"
   ]
  },
  {
   "cell_type": "code",
   "execution_count": 22,
   "metadata": {},
   "outputs": [],
   "source": [
    "# It is a little easier to construct and format the resulting data as a Pandas dataframe.\n",
    "# On any spark dataframe in python, you can use the `.toPandas()` method to convert to a Pandas DataFrame.\n",
    "test_res_pan = test_res.toPandas()"
   ]
  },
  {
   "cell_type": "code",
   "execution_count": 23,
   "metadata": {},
   "outputs": [
    {
     "data": {
      "text/html": [
       "<div>\n",
       "<style>\n",
       "    .dataframe thead tr:only-child th {\n",
       "        text-align: right;\n",
       "    }\n",
       "\n",
       "    .dataframe thead th {\n",
       "        text-align: left;\n",
       "    }\n",
       "\n",
       "    .dataframe tbody tr th {\n",
       "        vertical-align: top;\n",
       "    }\n",
       "</style>\n",
       "<table border=\"1\" class=\"dataframe\">\n",
       "  <thead>\n",
       "    <tr style=\"text-align: right;\">\n",
       "      <th></th>\n",
       "      <th>id</th>\n",
       "      <th>toxic</th>\n",
       "      <th>severe_toxic</th>\n",
       "      <th>obscene</th>\n",
       "      <th>threat</th>\n",
       "      <th>insult</th>\n",
       "      <th>identity_hate</th>\n",
       "    </tr>\n",
       "  </thead>\n",
       "  <tbody>\n",
       "    <tr>\n",
       "      <th>0</th>\n",
       "      <td>000968ce11f5ee34</td>\n",
       "      <td>4.655437e-02</td>\n",
       "      <td>7.900135e-03</td>\n",
       "      <td>3.559102e-02</td>\n",
       "      <td>0.002523</td>\n",
       "      <td>0.029230</td>\n",
       "      <td>0.006218</td>\n",
       "    </tr>\n",
       "    <tr>\n",
       "      <th>1</th>\n",
       "      <td>00491682330fdd1d</td>\n",
       "      <td>3.648678e-08</td>\n",
       "      <td>9.672807e-07</td>\n",
       "      <td>2.616639e-08</td>\n",
       "      <td>0.000227</td>\n",
       "      <td>0.000002</td>\n",
       "      <td>0.000008</td>\n",
       "    </tr>\n",
       "    <tr>\n",
       "      <th>2</th>\n",
       "      <td>008eb47c4684d190</td>\n",
       "      <td>6.308229e-01</td>\n",
       "      <td>1.303510e-03</td>\n",
       "      <td>2.481714e-03</td>\n",
       "      <td>0.001068</td>\n",
       "      <td>0.015390</td>\n",
       "      <td>0.002071</td>\n",
       "    </tr>\n",
       "    <tr>\n",
       "      <th>3</th>\n",
       "      <td>00d251f47486b6d2</td>\n",
       "      <td>6.102414e-02</td>\n",
       "      <td>7.802302e-03</td>\n",
       "      <td>3.433142e-02</td>\n",
       "      <td>0.002326</td>\n",
       "      <td>0.036742</td>\n",
       "      <td>0.006709</td>\n",
       "    </tr>\n",
       "    <tr>\n",
       "      <th>4</th>\n",
       "      <td>0114ae82c53101a9</td>\n",
       "      <td>4.303809e-01</td>\n",
       "      <td>7.279135e-02</td>\n",
       "      <td>2.954747e-01</td>\n",
       "      <td>0.004269</td>\n",
       "      <td>0.195128</td>\n",
       "      <td>0.013183</td>\n",
       "    </tr>\n",
       "    <tr>\n",
       "      <th>5</th>\n",
       "      <td>012c7429c5a34290</td>\n",
       "      <td>4.933512e-02</td>\n",
       "      <td>8.326263e-03</td>\n",
       "      <td>2.845525e-02</td>\n",
       "      <td>0.002452</td>\n",
       "      <td>0.037624</td>\n",
       "      <td>0.006429</td>\n",
       "    </tr>\n",
       "    <tr>\n",
       "      <th>6</th>\n",
       "      <td>015017ec394a264e</td>\n",
       "      <td>1.144765e-01</td>\n",
       "      <td>9.310584e-03</td>\n",
       "      <td>5.032201e-02</td>\n",
       "      <td>0.002541</td>\n",
       "      <td>0.050656</td>\n",
       "      <td>0.007637</td>\n",
       "    </tr>\n",
       "    <tr>\n",
       "      <th>7</th>\n",
       "      <td>01d94c94a86a4327</td>\n",
       "      <td>2.375722e-02</td>\n",
       "      <td>2.392501e-03</td>\n",
       "      <td>4.990644e-03</td>\n",
       "      <td>0.001420</td>\n",
       "      <td>0.003113</td>\n",
       "      <td>0.002949</td>\n",
       "    </tr>\n",
       "    <tr>\n",
       "      <th>8</th>\n",
       "      <td>020eb3a1af28453f</td>\n",
       "      <td>3.870029e-01</td>\n",
       "      <td>1.030645e-02</td>\n",
       "      <td>1.394373e-01</td>\n",
       "      <td>0.002623</td>\n",
       "      <td>0.150463</td>\n",
       "      <td>0.007943</td>\n",
       "    </tr>\n",
       "    <tr>\n",
       "      <th>9</th>\n",
       "      <td>0216909e11cfeac0</td>\n",
       "      <td>5.305645e-03</td>\n",
       "      <td>2.589205e-03</td>\n",
       "      <td>3.459482e-03</td>\n",
       "      <td>0.001428</td>\n",
       "      <td>0.003425</td>\n",
       "      <td>0.005351</td>\n",
       "    </tr>\n",
       "  </tbody>\n",
       "</table>\n",
       "</div>"
      ],
      "text/plain": [
       "                 id         toxic  severe_toxic       obscene    threat  \\\n",
       "0  000968ce11f5ee34  4.655437e-02  7.900135e-03  3.559102e-02  0.002523   \n",
       "1  00491682330fdd1d  3.648678e-08  9.672807e-07  2.616639e-08  0.000227   \n",
       "2  008eb47c4684d190  6.308229e-01  1.303510e-03  2.481714e-03  0.001068   \n",
       "3  00d251f47486b6d2  6.102414e-02  7.802302e-03  3.433142e-02  0.002326   \n",
       "4  0114ae82c53101a9  4.303809e-01  7.279135e-02  2.954747e-01  0.004269   \n",
       "5  012c7429c5a34290  4.933512e-02  8.326263e-03  2.845525e-02  0.002452   \n",
       "6  015017ec394a264e  1.144765e-01  9.310584e-03  5.032201e-02  0.002541   \n",
       "7  01d94c94a86a4327  2.375722e-02  2.392501e-03  4.990644e-03  0.001420   \n",
       "8  020eb3a1af28453f  3.870029e-01  1.030645e-02  1.394373e-01  0.002623   \n",
       "9  0216909e11cfeac0  5.305645e-03  2.589205e-03  3.459482e-03  0.001428   \n",
       "\n",
       "     insult  identity_hate  \n",
       "0  0.029230       0.006218  \n",
       "1  0.000002       0.000008  \n",
       "2  0.015390       0.002071  \n",
       "3  0.036742       0.006709  \n",
       "4  0.195128       0.013183  \n",
       "5  0.037624       0.006429  \n",
       "6  0.050656       0.007637  \n",
       "7  0.003113       0.002949  \n",
       "8  0.150463       0.007943  \n",
       "9  0.003425       0.005351  "
      ]
     },
     "execution_count": 23,
     "metadata": {},
     "output_type": "execute_result"
    }
   ],
   "source": [
    "test_res_pan.head(10)\n"
   ]
  },
  {
   "cell_type": "code",
   "execution_count": 24,
   "metadata": {},
   "outputs": [
    {
     "data": {
      "text/plain": [
       "[Row(id='000968ce11f5ee34', toxic=0.04655437171459198, severe_toxic=0.007900134660303593, obscene=0.03559102118015289, threat=0.002523174975067377, insult=0.02922980673611164, identity_hate=0.006218153052031994),\n",
       " Row(id='00491682330fdd1d', toxic=3.6486778043354207e-08, severe_toxic=9.672806982052862e-07, obscene=2.616638994368259e-08, threat=0.00022700187400914729, insult=1.90968535207503e-06, identity_hate=8.143211744027212e-06),\n",
       " Row(id='008eb47c4684d190', toxic=0.6308228969573975, severe_toxic=0.0013035100419074297, obscene=0.0024817143566906452, threat=0.0010678960243239999, insult=0.015390472486615181, identity_hate=0.0020708057563751936),\n",
       " Row(id='00d251f47486b6d2', toxic=0.06102414056658745, severe_toxic=0.0078023020178079605, obscene=0.034331418573856354, threat=0.002325755776837468, insult=0.036742307245731354, identity_hate=0.006709278095513582),\n",
       " Row(id='0114ae82c53101a9', toxic=0.43038085103034973, severe_toxic=0.07279135286808014, obscene=0.29547473788261414, threat=0.004268575459718704, insult=0.19512838125228882, identity_hate=0.01318315602838993),\n",
       " Row(id='012c7429c5a34290', toxic=0.049335118383169174, severe_toxic=0.008326263166964054, obscene=0.028455253690481186, threat=0.0024523106403648853, insult=0.03762417659163475, identity_hate=0.00642900075763464),\n",
       " Row(id='015017ec394a264e', toxic=0.11447650194168091, severe_toxic=0.009310583584010601, obscene=0.05032201483845711, threat=0.002541025634855032, insult=0.05065581575036049, identity_hate=0.007636548951268196),\n",
       " Row(id='01d94c94a86a4327', toxic=0.023757217451930046, severe_toxic=0.002392501337453723, obscene=0.004990643821656704, threat=0.0014201548183336854, insult=0.0031132218427956104, identity_hate=0.0029486308339983225),\n",
       " Row(id='020eb3a1af28453f', toxic=0.38700294494628906, severe_toxic=0.01030645240098238, obscene=0.1394372582435608, threat=0.002623333130031824, insult=0.15046299993991852, identity_hate=0.00794335175305605),\n",
       " Row(id='0216909e11cfeac0', toxic=0.005305645056068897, severe_toxic=0.00258920481428504, obscene=0.003459481755271554, threat=0.0014278306625783443, insult=0.0034249175805598497, identity_hate=0.005350853782147169)]"
      ]
     },
     "execution_count": 24,
     "metadata": {},
     "output_type": "execute_result"
    }
   ],
   "source": [
    "test_res.head(10)"
   ]
  }
 ],
 "metadata": {
  "kernelspec": {
   "display_name": "Python 3",
   "language": "python",
   "name": "python3"
  },
  "language_info": {
   "codemirror_mode": {
    "name": "ipython",
    "version": 3
   },
   "file_extension": ".py",
   "mimetype": "text/x-python",
   "name": "python",
   "nbconvert_exporter": "python",
   "pygments_lexer": "ipython3",
   "version": "3.5.2"
  }
 },
 "nbformat": 4,
 "nbformat_minor": 2
}
