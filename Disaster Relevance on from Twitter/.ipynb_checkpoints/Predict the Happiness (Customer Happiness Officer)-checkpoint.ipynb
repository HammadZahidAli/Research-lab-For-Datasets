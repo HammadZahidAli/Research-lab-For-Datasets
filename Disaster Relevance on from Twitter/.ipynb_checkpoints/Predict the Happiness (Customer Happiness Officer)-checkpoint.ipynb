{
 "cells": [
  {
   "cell_type": "markdown",
   "metadata": {},
   "source": [
    "> #### Problem Statement\n",
    "\n",
    "Customer Happiness has become the top priority for service & product based companies. To an extent, some of the companies even appoint CHOs (Customer Happiness Officer) to ensure delivering a kickass and delightful customer experience.\n",
    "\n",
    "Well, machine learning is now playing a pivotal role in delivering that experience. The ability to predict happy and unhappy customers give companies a nice head-start to improve their experience.\n",
    "\n",
    "TripAdvisor is the world's largest travel site where you can compare and book hotels, flights, restaurants etc. The data set provided in this challenge consists of a sample of hotel reviews provided by the customers. Analysing customers reviews will help them understand about the hotels listed on their website i.e. if they are treating customers well or if they are providing hospitality services as expected.\n",
    "\n",
    "In this challenge, you have to predict if a customer is happy or not happy.\n",
    "\n",
    "Data Description\n",
    "You are given three files to download: train.csv, test.csv and sample_submission.csv The training data has 38932 rows and test data has 29404 rows.\n",
    "\n",
    "<b>\n",
    "Variables\tDescription</b>\n",
    "___ \n",
    "<i>User_ID</i>:\t\n",
    "unique ID of the customer\n",
    "\n",
    "<i>Description</i>:\t\n",
    "description of the review posted\n",
    "\n",
    "<i>Browser_Used</i>:\t\n",
    "browser used to post the review\n",
    "\n",
    "<i>Device_Used</i>:\t\n",
    "device used to post the review\n",
    "\n",
    "<i>Is_Response</i>:\t\n",
    "target Variable\n",
    "___\n",
    "\n",
    "Submission\n",
    "A participant has to submit a csv file containing User_ID and predicted labels in a csv format. Check the sample submission file for format.\n",
    "\n",
    "Scripts :\n",
    "\n",
    "CatBoost, LightGBM, NaiveBayes (Python) - [Click Here](https://github.com/HackerEarth-Challenges/Happiness-ML-Challenge/blob/master/LGB_CB_Python.ipynb)"
   ]
  },
  {
   "cell_type": "code",
   "execution_count": null,
   "metadata": {
    "collapsed": true
   },
   "outputs": [],
   "source": []
  }
 ],
 "metadata": {
  "kernelspec": {
   "display_name": "Python 3",
   "language": "python",
   "name": "python3"
  },
  "language_info": {
   "codemirror_mode": {
    "name": "ipython",
    "version": 3
   },
   "file_extension": ".py",
   "mimetype": "text/x-python",
   "name": "python",
   "nbconvert_exporter": "python",
   "pygments_lexer": "ipython3",
   "version": "3.5.2"
  }
 },
 "nbformat": 4,
 "nbformat_minor": 2
}
