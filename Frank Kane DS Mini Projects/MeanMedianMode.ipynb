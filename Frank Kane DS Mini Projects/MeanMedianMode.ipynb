{
 "cells": [
  {
   "cell_type": "markdown",
   "metadata": {
    "deletable": true,
    "editable": true
   },
   "source": [
    "# Mean, Median, Mode, and introducing NumPy"
   ]
  },
  {
   "cell_type": "markdown",
   "metadata": {
    "deletable": true,
    "editable": true
   },
   "source": [
    "## Mean vs. Median"
   ]
  },
  {
   "cell_type": "markdown",
   "metadata": {
    "deletable": true,
    "editable": true
   },
   "source": [
    "Let's create some fake income data, centered around 27,000 with a normal distribution and standard deviation of 15,000, with 10,000 data points. (We'll discuss those terms more later, if you're not familiar with them.)\n",
    "\n",
    "Then, compute the mean (average) - it should be close to 27,000:"
   ]
  },
  {
   "cell_type": "code",
   "execution_count": 33,
   "metadata": {
    "collapsed": false,
    "deletable": true,
    "editable": true
   },
   "outputs": [
    {
     "name": "stdout",
     "output_type": "stream",
     "text": [
      "(10000,)\n",
      "29703.96914268878\n"
     ]
    }
   ],
   "source": [
    "import numpy as np\n",
    "\n",
    "# our own created data col\n",
    "incomes = np.random.normal(30000, 15000, 10000)\n",
    "\n",
    "print ( incomes.shape )\n",
    "\n",
    "print ( np.mean(incomes) )"
   ]
  },
  {
   "cell_type": "markdown",
   "metadata": {
    "deletable": true,
    "editable": true
   },
   "source": [
    "We can segment the income data into 50 buckets, and plot it as a histogram:"
   ]
  },
  {
   "cell_type": "code",
   "execution_count": 34,
   "metadata": {
    "collapsed": false,
    "deletable": true,
    "editable": true
   },
   "outputs": [
    {
     "data": {
      "image/png": "[encoded data removed]",
      "text/plain": [
       "<matplotlib.figure.Figure at 0x231d2d12a58>"
      ]
     },
     "metadata": {},
     "output_type": "display_data"
    }
   ],
   "source": [
    "%matplotlib inline\n",
    "import matplotlib.pyplot as plt\n",
    "plt.hist(incomes, 50)\n",
    "plt.show()"
   ]
  },
  {
   "cell_type": "markdown",
   "metadata": {
    "deletable": true,
    "editable": true
   },
   "source": [
    "Now compute the median - since we have a nice, even distribution it too should be close to 27,000:"
   ]
  },
  {
   "cell_type": "code",
   "execution_count": 35,
   "metadata": {
    "collapsed": false,
    "deletable": true,
    "editable": true
   },
   "outputs": [
    {
     "data": {
      "text/plain": [
       "29672.714234748128"
      ]
     },
     "execution_count": 35,
     "metadata": {},
     "output_type": "execute_result"
    }
   ],
   "source": [
    "np.median(incomes)"
   ]
  },
  {
   "cell_type": "markdown",
   "metadata": {
    "deletable": true,
    "editable": true
   },
   "source": [
    "Now we'll add Donald Trump into the mix. Darn income inequality!"
   ]
  },
  {
   "cell_type": "code",
   "execution_count": 39,
   "metadata": {
    "collapsed": false,
    "deletable": true,
    "editable": true
   },
   "outputs": [
    {
     "data": {
      "text/plain": [
       "(10002,)"
      ]
     },
     "execution_count": 39,
     "metadata": {},
     "output_type": "execute_result"
    }
   ],
   "source": [
    "incomes = np.append(incomes, [100000000])\n",
    "\n",
    "incomes.shape"
   ]
  },
  {
   "cell_type": "markdown",
   "metadata": {
    "deletable": true,
    "editable": true
   },
   "source": [
    "The median won't change much, but the mean does:"
   ]
  },
  {
   "cell_type": "code",
   "execution_count": 40,
   "metadata": {
    "collapsed": false,
    "deletable": true,
    "editable": true
   },
   "outputs": [
    {
     "data": {
      "text/plain": [
       "29677.037151739576"
      ]
     },
     "execution_count": 40,
     "metadata": {},
     "output_type": "execute_result"
    }
   ],
   "source": [
    "np.median(incomes)"
   ]
  },
  {
   "cell_type": "code",
   "execution_count": 41,
   "metadata": {
    "collapsed": false,
    "deletable": true,
    "editable": true
   },
   "outputs": [
    {
     "data": {
      "text/plain": [
       "39796.00994070064"
      ]
     },
     "execution_count": 41,
     "metadata": {},
     "output_type": "execute_result"
    }
   ],
   "source": [
    "np.mean(incomes)"
   ]
  },
  {
   "cell_type": "markdown",
   "metadata": {
    "deletable": true,
    "editable": true
   },
   "source": [
    "## Mode"
   ]
  },
  {
   "cell_type": "markdown",
   "metadata": {
    "deletable": true,
    "editable": true
   },
   "source": [
    "Next, let's generate some fake age data for 500 people:"
   ]
  },
  {
   "cell_type": "code",
   "execution_count": 45,
   "metadata": {
    "collapsed": false,
    "deletable": true,
    "editable": true
   },
   "outputs": [
    {
     "data": {
      "text/plain": [
       "array([34, 30, 34, 25, 36, 34, 38, 30, 18, 49, 21, 46, 40, 29, 19, 34, 48,\n",
       "       49, 37, 39, 47, 25, 18, 36, 43, 38, 45, 29, 22, 37, 48, 32, 41, 35,\n",
       "       26, 35, 37, 41, 19, 22, 32, 36, 35, 32, 34, 35, 34, 48, 18, 38, 22,\n",
       "       43, 48, 25, 24, 27, 24, 47, 28, 28, 27, 40, 36, 45, 31, 36, 37, 27,\n",
       "       25, 34, 38, 41, 26, 36, 37, 46, 33, 25, 32, 32, 41, 44, 34, 44, 44,\n",
       "       30, 27, 47, 39, 18, 22, 40, 20, 21, 32, 30, 25, 42, 24, 43, 41, 24,\n",
       "       25, 19, 38, 20, 20, 27, 25, 24, 44, 26, 44, 22, 44, 26, 22, 28, 41,\n",
       "       39, 37, 33, 34, 29, 23, 19, 38, 29, 21, 22, 46, 34, 19, 40, 29, 44,\n",
       "       34, 32, 33, 27, 38, 28, 24, 49, 39, 40, 24, 29, 24, 33, 20, 29, 22,\n",
       "       27, 27, 29, 33, 48, 40, 38, 33, 37, 34, 34, 44, 34, 33, 47, 42, 33,\n",
       "       21, 31, 22, 26, 23, 39, 49, 32, 35, 19, 38, 40, 36, 35, 41, 23, 48,\n",
       "       18, 49, 37, 23, 39, 22, 43, 34, 20, 39, 28, 49, 42, 45, 30, 19, 37,\n",
       "       47, 28, 24, 23, 34, 19, 24, 19, 46, 47, 48, 37, 32, 30, 24, 18, 19,\n",
       "       32, 48, 29, 42, 49, 20, 40, 39, 38, 44, 34, 18, 29, 26, 34, 20, 34,\n",
       "       20, 38, 48, 29, 27, 42, 22, 42, 27, 30, 41, 20, 30, 26, 42, 20, 20,\n",
       "       41, 38, 33, 27, 47, 37, 18, 19, 44, 24, 35, 27, 48, 47, 29, 47, 49,\n",
       "       31, 39, 26, 26, 40, 19, 47, 41, 24, 20, 40, 25, 22, 21, 20, 29, 38,\n",
       "       45, 28, 29, 35, 19, 37, 23, 38, 46, 26, 48, 22, 47, 29, 41, 30, 18,\n",
       "       25, 48, 41, 41, 36, 34, 27, 31, 42, 32, 36, 24, 43, 31, 38, 30, 26,\n",
       "       29, 40, 38, 48, 27, 24, 21, 23, 29, 48, 36, 28, 20, 29, 44, 31, 24,\n",
       "       41, 33, 26, 41, 37, 37, 43, 33, 32, 28, 49, 28, 31, 41, 45, 22, 36,\n",
       "       33, 36, 41, 33, 27, 36, 32, 46, 36, 49, 45, 39, 20, 19, 38, 20, 21,\n",
       "       24, 29, 42, 34, 25, 30, 45, 19, 28, 21, 33, 37, 41, 20, 43, 22, 41,\n",
       "       18, 26, 37, 26, 34, 47, 20, 43, 39, 39, 35, 35, 25, 46, 42, 49, 30,\n",
       "       44, 19, 19, 38, 48, 18, 28, 33, 49, 26, 40, 49, 42, 29, 36, 38, 39,\n",
       "       40, 20, 23, 30, 36, 34, 46, 36, 26, 48, 35, 41, 23, 25, 21, 42, 26,\n",
       "       48, 28, 45, 35, 43, 30, 31, 24, 29, 25, 23, 43, 40, 23, 34, 34, 25,\n",
       "       31, 44, 48, 43, 28, 26, 42, 49, 33, 26, 35, 34, 48, 44, 43, 49, 31,\n",
       "       40, 37, 23, 45, 45, 36, 39, 45, 33, 36, 39, 46, 39, 39, 45, 18, 26,\n",
       "       32, 44, 42, 23, 26, 33, 26])"
      ]
     },
     "execution_count": 45,
     "metadata": {},
     "output_type": "execute_result"
    }
   ],
   "source": [
    "ages = np.random.randint(18, high=50, size=500)\n",
    "ages"
   ]
  },
  {
   "cell_type": "code",
   "execution_count": 46,
   "metadata": {
    "collapsed": false,
    "deletable": true,
    "editable": true
   },
   "outputs": [
    {
     "data": {
      "text/plain": [
       "ModeResult(mode=array([34]), count=array([26]))"
      ]
     },
     "execution_count": 46,
     "metadata": {},
     "output_type": "execute_result"
    }
   ],
   "source": [
    "from scipy import stats\n",
    "stats.mode(ages)\n"
   ]
  }
 ],
 "metadata": {
  "kernelspec": {
   "display_name": "Python 3",
   "language": "python",
   "name": "python3"
  },
  "language_info": {
   "codemirror_mode": {
    "name": "ipython",
    "version": 3
   },
   "file_extension": ".py",
   "mimetype": "text/x-python",
   "name": "python",
   "nbconvert_exporter": "python",
   "pygments_lexer": "ipython3",
   "version": "3.6.0"
  }
 },
 "nbformat": 4,
 "nbformat_minor": 0
}
